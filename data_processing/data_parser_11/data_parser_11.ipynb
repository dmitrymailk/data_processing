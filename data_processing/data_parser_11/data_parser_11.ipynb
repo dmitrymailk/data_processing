{
 "cells": [
  {
   "cell_type": "code",
   "execution_count": 31,
   "metadata": {},
   "outputs": [
    {
     "name": "stderr",
     "output_type": "stream",
     "text": [
      "d:\\programming\\AI\\ai_env\\lib\\site-packages\\openpyxl\\worksheet\\_reader.py:296: UserWarning: Failed to load a conditional formatting rule. It will be discarded. Cause: expected <class 'openpyxl.worksheet.cell_range.MultiCellRange'>\n",
      "  warn(msg)\n"
     ]
    }
   ],
   "source": [
    "import pandas as pd\n",
    "from openpyxl import load_workbook\n",
    "\n",
    "document_name = \"./2023_09_04_Общий_сбор_информации_W7+Wxp_2.xlsx\"\n",
    "# document_name = \"./2023_09_04_Общий_сбор_информации_W7+Wxp_1.xlsx\"\n",
    "workbook = load_workbook(document_name)\n",
    "# dataset = pd.read_excel(document_name, engine=\"openpyxl\", sheet_name=\"WIN 7\")\n",
    "sheet_name=\"WIN XP\"\n",
    "dataset = pd.read_excel(document_name, engine=\"openpyxl\", sheet_name=sheet_name)\n",
    "dataset.drop(\n",
    "    columns=[item for item in list(dataset.columns) if \"Unnamed\" in item],\n",
    "    inplace=True,\n",
    ")\n",
    "cell_ranges = workbook.active.merged_cells.ranges"
   ]
  },
  {
   "cell_type": "code",
   "execution_count": 2,
   "metadata": {},
   "outputs": [
    {
     "data": {
      "text/html": [
       "<div>\n",
       "<style scoped>\n",
       "    .dataframe tbody tr th:only-of-type {\n",
       "        vertical-align: middle;\n",
       "    }\n",
       "\n",
       "    .dataframe tbody tr th {\n",
       "        vertical-align: top;\n",
       "    }\n",
       "\n",
       "    .dataframe thead th {\n",
       "        text-align: right;\n",
       "    }\n",
       "</style>\n",
       "<table border=\"1\" class=\"dataframe\">\n",
       "  <thead>\n",
       "    <tr style=\"text-align: right;\">\n",
       "      <th></th>\n",
       "      <th>Наименование ОИВ</th>\n",
       "      <th>Наименование отдела/сектора</th>\n",
       "      <th>Кол-во АРМ с ОС windows XP</th>\n",
       "      <th>Инвентарный номер системного блока с ОС windows XP</th>\n",
       "      <th>№ Кабинета</th>\n",
       "      <th>Наименование используемых ИС на windows XP</th>\n",
       "      <th>Разбивка по переходу ИС</th>\n",
       "      <th>Переводим / Не переводим</th>\n",
       "    </tr>\n",
       "  </thead>\n",
       "  <tbody>\n",
       "    <tr>\n",
       "      <th>0</th>\n",
       "      <td>Комитет соц защиты        ГКУ СО\"Алексеевский ...</td>\n",
       "      <td>Отделение приема граждан,социального сопровожд...</td>\n",
       "      <td>1</td>\n",
       "      <td>4300410</td>\n",
       "      <td>6</td>\n",
       "      <td>КонсультантПлюс</td>\n",
       "      <td>ДА</td>\n",
       "      <td>+</td>\n",
       "    </tr>\n",
       "    <tr>\n",
       "      <th>1</th>\n",
       "      <td>NaN</td>\n",
       "      <td>NaN</td>\n",
       "      <td>NaN</td>\n",
       "      <td>NaN</td>\n",
       "      <td>NaN</td>\n",
       "      <td>NaN</td>\n",
       "      <td>NaN</td>\n",
       "      <td>NaN</td>\n",
       "    </tr>\n",
       "    <tr>\n",
       "      <th>2</th>\n",
       "      <td>NaN</td>\n",
       "      <td>NaN</td>\n",
       "      <td>NaN</td>\n",
       "      <td>NaN</td>\n",
       "      <td>NaN</td>\n",
       "      <td>NaN</td>\n",
       "      <td>NaN</td>\n",
       "      <td>NaN</td>\n",
       "    </tr>\n",
       "    <tr>\n",
       "      <th>3</th>\n",
       "      <td>NaN</td>\n",
       "      <td>NaN</td>\n",
       "      <td>NaN</td>\n",
       "      <td>NaN</td>\n",
       "      <td>NaN</td>\n",
       "      <td>Google Chrome</td>\n",
       "      <td>ДА</td>\n",
       "      <td>NaN</td>\n",
       "    </tr>\n",
       "    <tr>\n",
       "      <th>4</th>\n",
       "      <td>NaN</td>\n",
       "      <td>NaN</td>\n",
       "      <td>NaN</td>\n",
       "      <td>NaN</td>\n",
       "      <td>NaN</td>\n",
       "      <td>Firefox Mozilla</td>\n",
       "      <td>ДА</td>\n",
       "      <td>NaN</td>\n",
       "    </tr>\n",
       "  </tbody>\n",
       "</table>\n",
       "</div>"
      ],
      "text/plain": [
       "                                    Наименование ОИВ  \\\n",
       "0  Комитет соц защиты        ГКУ СО\"Алексеевский ...   \n",
       "1                                                NaN   \n",
       "2                                                NaN   \n",
       "3                                                NaN   \n",
       "4                                                NaN   \n",
       "\n",
       "                         Наименование отдела/сектора  \\\n",
       "0  Отделение приема граждан,социального сопровожд...   \n",
       "1                                                NaN   \n",
       "2                                                NaN   \n",
       "3                                                NaN   \n",
       "4                                                NaN   \n",
       "\n",
       "  Кол-во АРМ с ОС windows XP  \\\n",
       "0                          1   \n",
       "1                        NaN   \n",
       "2                        NaN   \n",
       "3                        NaN   \n",
       "4                        NaN   \n",
       "\n",
       "  Инвентарный номер системного блока с ОС windows XP № Кабинета  \\\n",
       "0                                            4300410          6   \n",
       "1                                                NaN        NaN   \n",
       "2                                                NaN        NaN   \n",
       "3                                                NaN        NaN   \n",
       "4                                                NaN        NaN   \n",
       "\n",
       "  Наименование используемых ИС на windows XP Разбивка по переходу ИС  \\\n",
       "0                            КонсультантПлюс                      ДА   \n",
       "1                                        NaN                     NaN   \n",
       "2                                        NaN                     NaN   \n",
       "3                              Google Chrome                      ДА   \n",
       "4                            Firefox Mozilla                      ДА   \n",
       "\n",
       "  Переводим / Не переводим  \n",
       "0                        +  \n",
       "1                      NaN  \n",
       "2                      NaN  \n",
       "3                      NaN  \n",
       "4                      NaN  "
      ]
     },
     "execution_count": 2,
     "metadata": {},
     "output_type": "execute_result"
    }
   ],
   "source": [
    "dataset.head(5)"
   ]
  },
  {
   "cell_type": "code",
   "execution_count": 38,
   "metadata": {},
   "outputs": [
    {
     "data": {
      "text/plain": [
       "Index(['Наименование ОИВ', 'Подведомственное учереждение',\n",
       "       'Наименование отдела/сектора', 'Кол-во АРМ с ОС windows XP',\n",
       "       'Инвентарный номер системного блока с ОС windows XP', '№ Кабинета',\n",
       "       'Наименование используемых ИС на windows XP', 'Разбивка по переходу ИС',\n",
       "       'Переводим / Не переводим'],\n",
       "      dtype='object')"
      ]
     },
     "execution_count": 38,
     "metadata": {},
     "output_type": "execute_result"
    }
   ],
   "source": [
    "dataset.columns"
   ]
  },
  {
   "cell_type": "code",
   "execution_count": 32,
   "metadata": {},
   "outputs": [],
   "source": [
    "# fill_columns = [\n",
    "#     \"Кол-во АРМ с ОС windows Vista\",\n",
    "#     \"№ кабинета\",\n",
    "#     \"Инвентарный номер системного блока с ОС  windows Vista\",\n",
    "#     \"Наименование используемых ИС на windows Vista\",\n",
    "#     \"Переводим / Не переводим\",\n",
    "# ]\n",
    "# for column in fill_columns:\n",
    "#     dataset[column].fillna(value=\"-\", inplace=True, )\n",
    "dataset.fillna(\n",
    "    value=\"-\",\n",
    "    inplace=True,\n",
    ")"
   ]
  },
  {
   "cell_type": "code",
   "execution_count": 33,
   "metadata": {},
   "outputs": [
    {
     "data": {
      "text/plain": [
       "'ГКУ СО\"Алексеевский ЦСОН\"'"
      ]
     },
     "execution_count": 33,
     "metadata": {},
     "output_type": "execute_result"
    }
   ],
   "source": [
    "dataset.iloc[0, 1]"
   ]
  },
  {
   "cell_type": "code",
   "execution_count": 34,
   "metadata": {},
   "outputs": [
    {
     "data": {
      "text/plain": [
       "(1, 2, 1, 506)"
      ]
     },
     "execution_count": 34,
     "metadata": {},
     "output_type": "execute_result"
    }
   ],
   "source": [
    "cell_ranges[0].bounds"
   ]
  },
  {
   "cell_type": "code",
   "execution_count": 35,
   "metadata": {},
   "outputs": [
    {
     "name": "stderr",
     "output_type": "stream",
     "text": [
      "100%|██████████| 1967/1967 [00:00<00:00, 2083.04it/s]\n"
     ]
    },
    {
     "data": {
      "text/html": [
       "<div>\n",
       "<style scoped>\n",
       "    .dataframe tbody tr th:only-of-type {\n",
       "        vertical-align: middle;\n",
       "    }\n",
       "\n",
       "    .dataframe tbody tr th {\n",
       "        vertical-align: top;\n",
       "    }\n",
       "\n",
       "    .dataframe thead th {\n",
       "        text-align: right;\n",
       "    }\n",
       "</style>\n",
       "<table border=\"1\" class=\"dataframe\">\n",
       "  <thead>\n",
       "    <tr style=\"text-align: right;\">\n",
       "      <th></th>\n",
       "      <th>Наименование ОИВ</th>\n",
       "      <th>Подведомственное учереждение</th>\n",
       "      <th>Наименование отдела/сектора</th>\n",
       "      <th>Кол-во АРМ с ОС windows XP</th>\n",
       "      <th>Инвентарный номер системного блока с ОС windows XP</th>\n",
       "      <th>№ Кабинета</th>\n",
       "      <th>Наименование используемых ИС на windows XP</th>\n",
       "      <th>Разбивка по переходу ИС</th>\n",
       "      <th>Переводим / Не переводим</th>\n",
       "    </tr>\n",
       "  </thead>\n",
       "  <tbody>\n",
       "    <tr>\n",
       "      <th>0</th>\n",
       "      <td>Комитет Социальной защиты ВО</td>\n",
       "      <td>ГКУ СО\"Алексеевский ЦСОН\"</td>\n",
       "      <td>Отделение приема граждан,социального сопровожд...</td>\n",
       "      <td>1</td>\n",
       "      <td>4300410</td>\n",
       "      <td>6</td>\n",
       "      <td>КонсультантПлюс</td>\n",
       "      <td>ДА</td>\n",
       "      <td>+</td>\n",
       "    </tr>\n",
       "    <tr>\n",
       "      <th>1</th>\n",
       "      <td>Комитет Социальной защиты ВО</td>\n",
       "      <td>ГКУ СО\"Алексеевский ЦСОН\"</td>\n",
       "      <td>Отделение приема граждан,социального сопровожд...</td>\n",
       "      <td>1</td>\n",
       "      <td>4300410</td>\n",
       "      <td>6</td>\n",
       "      <td>КонсультантПлюс</td>\n",
       "      <td>ДА</td>\n",
       "      <td>+</td>\n",
       "    </tr>\n",
       "    <tr>\n",
       "      <th>2</th>\n",
       "      <td>Комитет Социальной защиты ВО</td>\n",
       "      <td>ГКУ СО\"Алексеевский ЦСОН\"</td>\n",
       "      <td>Отделение приема граждан,социального сопровожд...</td>\n",
       "      <td>1</td>\n",
       "      <td>4300410</td>\n",
       "      <td>6</td>\n",
       "      <td>КонсультантПлюс</td>\n",
       "      <td>ДА</td>\n",
       "      <td>+</td>\n",
       "    </tr>\n",
       "    <tr>\n",
       "      <th>3</th>\n",
       "      <td>Комитет Социальной защиты ВО</td>\n",
       "      <td>ГКУ СО\"Алексеевский ЦСОН\"</td>\n",
       "      <td>Отделение приема граждан,социального сопровожд...</td>\n",
       "      <td>1</td>\n",
       "      <td>4300410</td>\n",
       "      <td>6</td>\n",
       "      <td>Google Chrome</td>\n",
       "      <td>ДА</td>\n",
       "      <td>+</td>\n",
       "    </tr>\n",
       "    <tr>\n",
       "      <th>4</th>\n",
       "      <td>Комитет Социальной защиты ВО</td>\n",
       "      <td>ГКУ СО\"Алексеевский ЦСОН\"</td>\n",
       "      <td>Отделение приема граждан,социального сопровожд...</td>\n",
       "      <td>1</td>\n",
       "      <td>4300410</td>\n",
       "      <td>6</td>\n",
       "      <td>Firefox Mozilla</td>\n",
       "      <td>ДА</td>\n",
       "      <td>+</td>\n",
       "    </tr>\n",
       "    <tr>\n",
       "      <th>5</th>\n",
       "      <td>Комитет Социальной защиты ВО</td>\n",
       "      <td>ГКУ СО\"Алексеевский ЦСОН\"</td>\n",
       "      <td>Отделение приема граждан,социального сопровожд...</td>\n",
       "      <td>1</td>\n",
       "      <td>4300410</td>\n",
       "      <td>6</td>\n",
       "      <td>Firefox Mozilla</td>\n",
       "      <td>ДА</td>\n",
       "      <td>+</td>\n",
       "    </tr>\n",
       "    <tr>\n",
       "      <th>6</th>\n",
       "      <td>Комитет Социальной защиты ВО</td>\n",
       "      <td>ГКУ СО\"Алексеевский ЦСОН\"</td>\n",
       "      <td>Отделение приема граждан,социального сопровожд...</td>\n",
       "      <td>1</td>\n",
       "      <td>4300410</td>\n",
       "      <td>6</td>\n",
       "      <td>Microsoft Excel</td>\n",
       "      <td>Есть аналоги на РЕД ОС</td>\n",
       "      <td>+</td>\n",
       "    </tr>\n",
       "    <tr>\n",
       "      <th>7</th>\n",
       "      <td>Комитет Социальной защиты ВО</td>\n",
       "      <td>ГКУ СО\"Алексеевский ЦСОН\"</td>\n",
       "      <td>Отделение приема граждан,социального сопровожд...</td>\n",
       "      <td>1</td>\n",
       "      <td>4300410</td>\n",
       "      <td>6</td>\n",
       "      <td>Microsoft Word</td>\n",
       "      <td>Есть аналоги на РЕД ОС</td>\n",
       "      <td>+</td>\n",
       "    </tr>\n",
       "    <tr>\n",
       "      <th>8</th>\n",
       "      <td>Комитет Социальной защиты ВО</td>\n",
       "      <td>ГКУ СО\"Алексеевский ЦСОН\"</td>\n",
       "      <td>Отделение приема граждан,социального сопровожд...</td>\n",
       "      <td>1</td>\n",
       "      <td>4300410</td>\n",
       "      <td>6</td>\n",
       "      <td>KasperskyEndpointSecurity</td>\n",
       "      <td>ДА</td>\n",
       "      <td>+</td>\n",
       "    </tr>\n",
       "    <tr>\n",
       "      <th>9</th>\n",
       "      <td>Комитет Социальной защиты ВО</td>\n",
       "      <td>ГКУ СО\"Алексеевский ЦСОН\"</td>\n",
       "      <td>Отделение приема граждан,социального сопровожд...</td>\n",
       "      <td>1</td>\n",
       "      <td>4300410</td>\n",
       "      <td>6</td>\n",
       "      <td>KasperskyEndpointSecurity</td>\n",
       "      <td>ДА</td>\n",
       "      <td>+</td>\n",
       "    </tr>\n",
       "  </tbody>\n",
       "</table>\n",
       "</div>"
      ],
      "text/plain": [
       "               Наименование ОИВ Подведомственное учереждение  \\\n",
       "0  Комитет Социальной защиты ВО    ГКУ СО\"Алексеевский ЦСОН\"   \n",
       "1  Комитет Социальной защиты ВО    ГКУ СО\"Алексеевский ЦСОН\"   \n",
       "2  Комитет Социальной защиты ВО    ГКУ СО\"Алексеевский ЦСОН\"   \n",
       "3  Комитет Социальной защиты ВО    ГКУ СО\"Алексеевский ЦСОН\"   \n",
       "4  Комитет Социальной защиты ВО    ГКУ СО\"Алексеевский ЦСОН\"   \n",
       "5  Комитет Социальной защиты ВО    ГКУ СО\"Алексеевский ЦСОН\"   \n",
       "6  Комитет Социальной защиты ВО    ГКУ СО\"Алексеевский ЦСОН\"   \n",
       "7  Комитет Социальной защиты ВО    ГКУ СО\"Алексеевский ЦСОН\"   \n",
       "8  Комитет Социальной защиты ВО    ГКУ СО\"Алексеевский ЦСОН\"   \n",
       "9  Комитет Социальной защиты ВО    ГКУ СО\"Алексеевский ЦСОН\"   \n",
       "\n",
       "                         Наименование отдела/сектора  \\\n",
       "0  Отделение приема граждан,социального сопровожд...   \n",
       "1  Отделение приема граждан,социального сопровожд...   \n",
       "2  Отделение приема граждан,социального сопровожд...   \n",
       "3  Отделение приема граждан,социального сопровожд...   \n",
       "4  Отделение приема граждан,социального сопровожд...   \n",
       "5  Отделение приема граждан,социального сопровожд...   \n",
       "6  Отделение приема граждан,социального сопровожд...   \n",
       "7  Отделение приема граждан,социального сопровожд...   \n",
       "8  Отделение приема граждан,социального сопровожд...   \n",
       "9  Отделение приема граждан,социального сопровожд...   \n",
       "\n",
       "  Кол-во АРМ с ОС windows XP  \\\n",
       "0                          1   \n",
       "1                          1   \n",
       "2                          1   \n",
       "3                          1   \n",
       "4                          1   \n",
       "5                          1   \n",
       "6                          1   \n",
       "7                          1   \n",
       "8                          1   \n",
       "9                          1   \n",
       "\n",
       "  Инвентарный номер системного блока с ОС windows XP № Кабинета  \\\n",
       "0                                            4300410          6   \n",
       "1                                            4300410          6   \n",
       "2                                            4300410          6   \n",
       "3                                            4300410          6   \n",
       "4                                            4300410          6   \n",
       "5                                            4300410          6   \n",
       "6                                            4300410          6   \n",
       "7                                            4300410          6   \n",
       "8                                            4300410          6   \n",
       "9                                            4300410          6   \n",
       "\n",
       "  Наименование используемых ИС на windows XP Разбивка по переходу ИС  \\\n",
       "0                            КонсультантПлюс                      ДА   \n",
       "1                            КонсультантПлюс                      ДА   \n",
       "2                            КонсультантПлюс                      ДА   \n",
       "3                              Google Chrome                      ДА   \n",
       "4                            Firefox Mozilla                      ДА   \n",
       "5                            Firefox Mozilla                      ДА   \n",
       "6                            Microsoft Excel  Есть аналоги на РЕД ОС   \n",
       "7                             Microsoft Word  Есть аналоги на РЕД ОС   \n",
       "8                  KasperskyEndpointSecurity                      ДА   \n",
       "9                  KasperskyEndpointSecurity                      ДА   \n",
       "\n",
       "  Переводим / Не переводим  \n",
       "0                        +  \n",
       "1                        +  \n",
       "2                        +  \n",
       "3                        +  \n",
       "4                        +  \n",
       "5                        +  \n",
       "6                        +  \n",
       "7                        +  \n",
       "8                        +  \n",
       "9                        +  "
      ]
     },
     "execution_count": 35,
     "metadata": {},
     "output_type": "execute_result"
    }
   ],
   "source": [
    "from tqdm import tqdm\n",
    "\n",
    "for cell_range in tqdm(cell_ranges):\n",
    "    # print(cell_range.bounds)\n",
    "    try:\n",
    "        column_start, row_start, column_end, row_end = cell_range.bounds\n",
    "        column_start -= 1\n",
    "        row_start -= 2\n",
    "        row_end -= 1\n",
    "        for row_index in range(row_start, row_end):\n",
    "            if column_start < len(dataset.columns) and row_index < len(dataset):\n",
    "                dataset.iloc[row_index, column_start] = dataset.iloc[\n",
    "                    row_start, column_start\n",
    "                ]\n",
    "    except:\n",
    "        print(column_start, column_end)\n",
    "        break\n",
    "\n",
    "dataset.head(10)"
   ]
  },
  {
   "cell_type": "code",
   "execution_count": 19,
   "metadata": {},
   "outputs": [
    {
     "data": {
      "text/plain": [
       "'Комитет соц защиты        ГКУ СО\"Алексеевский ЦСОН\"'"
      ]
     },
     "execution_count": 19,
     "metadata": {},
     "output_type": "execute_result"
    }
   ],
   "source": [
    "dataset.iloc[0, 0]"
   ]
  },
  {
   "cell_type": "code",
   "execution_count": 17,
   "metadata": {},
   "outputs": [
    {
     "data": {
      "text/plain": [
       "(16386, 2)"
      ]
     },
     "execution_count": 17,
     "metadata": {},
     "output_type": "execute_result"
    }
   ],
   "source": [
    "row_index, column_start"
   ]
  },
  {
   "cell_type": "code",
   "execution_count": 18,
   "metadata": {},
   "outputs": [
    {
     "data": {
      "text/plain": [
       "16386"
      ]
     },
     "execution_count": 18,
     "metadata": {},
     "output_type": "execute_result"
    }
   ],
   "source": [
    "len(dataset)"
   ]
  },
  {
   "cell_type": "code",
   "execution_count": 15,
   "metadata": {},
   "outputs": [
    {
     "data": {
      "text/plain": [
       "'Сектор мониторинга и анализа межконфессиональных отношений'"
      ]
     },
     "execution_count": 15,
     "metadata": {},
     "output_type": "execute_result"
    }
   ],
   "source": [
    "dataset.iloc[row_start, column_start]"
   ]
  },
  {
   "cell_type": "code",
   "execution_count": null,
   "metadata": {},
   "outputs": [],
   "source": []
  },
  {
   "cell_type": "code",
   "execution_count": 42,
   "metadata": {},
   "outputs": [],
   "source": [
    "\n",
    "dataset.to_excel(\n",
    "    f\"./2023_09_04_Общий_сбор_информации_W7+Wxp_2_changed_{sheet_name}.xlsx\", index=False\n",
    ")"
   ]
  },
  {
   "cell_type": "code",
   "execution_count": 10,
   "metadata": {},
   "outputs": [],
   "source": [
    "pd.DataFrame(dataset).to_excel(\n",
    "    \"./2023_09_04_Общий_сбор_информации_W7+Wxp_1_changed.xlsx\", index=False\n",
    ")"
   ]
  }
 ],
 "metadata": {
  "kernelspec": {
   "display_name": "ai_env",
   "language": "python",
   "name": "python3"
  },
  "language_info": {
   "codemirror_mode": {
    "name": "ipython",
    "version": 3
   },
   "file_extension": ".py",
   "mimetype": "text/x-python",
   "name": "python",
   "nbconvert_exporter": "python",
   "pygments_lexer": "ipython3",
   "version": "3.9.0"
  },
  "orig_nbformat": 4
 },
 "nbformat": 4,
 "nbformat_minor": 2
}
