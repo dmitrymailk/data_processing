{
 "cells": [
  {
   "cell_type": "code",
   "execution_count": 2,
   "metadata": {},
   "outputs": [],
   "source": [
    "import pandas as pd\n",
    "import numpy as np"
   ]
  },
  {
   "cell_type": "code",
   "execution_count": 1,
   "metadata": {},
   "outputs": [],
   "source": [
    "product_types = \"\"\"\n",
    "Проезд в трамвае, поездка\n",
    "Проезд в троллейбусе, поездка\n",
    "Проезд в метро, поездка\n",
    "Проезд в городском автобусе,поездка\n",
    "Полет в салоне экономического класса самолета, в расчете на 1000 км пути\n",
    "Водоснабжение горячее, м3\n",
    "Отопление, Гкал\n",
    "Водоотведение, м3\n",
    "Газ сжиженный, м3\n",
    "Проживание в гостинице 1* или в мотеле, сутки с человека\n",
    "Проживание в гостинице 2* , сутки с человека\n",
    "Проживание в гостинице 3* , сутки с человека\n",
    "Проживание в гостинице 4*-5* , сутки с человека\n",
    "Проживание в хостеле, сутки с человека\n",
    "Услуги по снабжению электроэнергией\n",
    "Санаторий, день\n",
    "Дом отдыха, пансионат, день\n",
    "\"\"\".split(\"\\n\")\n",
    "\n",
    "categories = \"\"\"\n",
    "Общественный транспорт\n",
    "Общественный транспорт\n",
    "Общественный транспорт\n",
    "Общественный транспорт\n",
    "Общественный транспорт\n",
    "Коммунальные услуги\n",
    "Коммунальные услуги\n",
    "Коммунальные услуги\n",
    "Коммунальные услуги\n",
    "Места размещения\n",
    "Места размещения\n",
    "Места размещения\n",
    "Места размещения\n",
    "Места размещения\n",
    "Коммунальные услуги\n",
    "Места размещения\n",
    "Места размещения\n",
    "\"\"\".split(\"\\n\")\n",
    "\n",
    "product_types = [item for item in product_types if len(item) > 0]\n",
    "categories = [item for item in categories if len(item) > 0]\n"
   ]
  },
  {
   "cell_type": "code",
   "execution_count": 3,
   "metadata": {},
   "outputs": [
    {
     "data": {
      "text/plain": [
       "{'Проезд в трамвае, поездка': 'Общественный транспорт',\n",
       " 'Проезд в троллейбусе, поездка': 'Общественный транспорт',\n",
       " 'Проезд в метро, поездка': 'Общественный транспорт',\n",
       " 'Проезд в городском автобусе,поездка': 'Общественный транспорт',\n",
       " 'Полет в салоне экономического класса самолета, в расчете на 1000 км пути': 'Общественный транспорт',\n",
       " 'Водоснабжение горячее, м3': 'Коммунальные услуги',\n",
       " 'Отопление, Гкал': 'Коммунальные услуги',\n",
       " 'Водоотведение, м3': 'Коммунальные услуги',\n",
       " 'Газ сжиженный, м3': 'Коммунальные услуги',\n",
       " 'Проживание в гостинице 1* или в мотеле, сутки с человека': 'Места размещения',\n",
       " 'Проживание в гостинице 2* , сутки с человека': 'Места размещения',\n",
       " 'Проживание в гостинице 3* , сутки с человека': 'Места размещения',\n",
       " 'Проживание в гостинице 4*-5* , сутки с человека': 'Места размещения',\n",
       " 'Проживание в хостеле, сутки с человека': 'Места размещения',\n",
       " 'Услуги по снабжению электроэнергией': 'Коммунальные услуги',\n",
       " 'Санаторий, день': 'Места размещения',\n",
       " 'Дом отдыха, пансионат, день': 'Места размещения'}"
      ]
     },
     "execution_count": 3,
     "metadata": {},
     "output_type": "execute_result"
    }
   ],
   "source": [
    "product_types_dict = {product_types[i]: categories[i] for i in range(len(categories))}\n",
    "\n",
    "product_types_dict"
   ]
  },
  {
   "cell_type": "code",
   "execution_count": 17,
   "metadata": {},
   "outputs": [],
   "source": [
    "dataset = pd.read_excel(\"./data/Исходник_Для_парсера_УслугиСредние_потребительские_цены_на_услуги.xlsx\")"
   ]
  },
  {
   "cell_type": "code",
   "execution_count": 18,
   "metadata": {},
   "outputs": [],
   "source": [
    "area_coords = []\n",
    "\n",
    "for i in range(len(dataset.columns)):\n",
    "\titem = dataset.iloc[2, i]\n",
    "\titem = str(item)\n",
    "\tif len(item) > 5:\n",
    "\t\tif len(area_coords) > 0:\n",
    "\t\t\tarea_coords[-1].append([2, i])\n",
    "\t\tarea_coords.append(\n",
    "\t\t\t[\n",
    "\t\t\t\titem,\n",
    "\t\t\t\t[2, i]\n",
    "\t\t\t]\n",
    "\t\t)\n",
    "area_coords[-1].append([2, len(dataset.columns)])\n",
    "\n",
    "area_coords.insert(0,\n",
    "\t['', [2, 1], [2, area_coords[0][1][-1]]]\n",
    ")"
   ]
  },
  {
   "cell_type": "code",
   "execution_count": 19,
   "metadata": {},
   "outputs": [
    {
     "data": {
      "text/plain": [
       "[['', [2, 1], [2, 5]],\n",
       " ['Центральный федеральный округ', [2, 5], [2, 81]],\n",
       " ['Северо-Западный федеральный округ', [2, 81], [2, 129]],\n",
       " ['Южный федеральный округ', [2, 129], [2, 165]],\n",
       " ['Северо-Кавказский федеральный округ', [2, 165], [2, 197]],\n",
       " ['Приволжский федеральный округ', [2, 197], [2, 257]],\n",
       " ['Уральский федеральный округ', [2, 257], [2, 285]],\n",
       " ['Сибирский федеральный округ', [2, 285], [2, 329]],\n",
       " ['Дальневосточный федеральный округ', [2, 329], [2, 377]]]"
      ]
     },
     "execution_count": 19,
     "metadata": {},
     "output_type": "execute_result"
    }
   ],
   "source": [
    "area_coords"
   ]
  },
  {
   "cell_type": "code",
   "execution_count": 20,
   "metadata": {},
   "outputs": [
    {
     "data": {
      "text/plain": [
       "['Общественный транспорт', 'Коммунальные услуги', 'Места размещения']"
      ]
     },
     "execution_count": 20,
     "metadata": {},
     "output_type": "execute_result"
    }
   ],
   "source": [
    "product_types_set = list(set(categories))\n",
    "product_types_set"
   ]
  },
  {
   "cell_type": "code",
   "execution_count": 31,
   "metadata": {},
   "outputs": [],
   "source": [
    "new_dataset_columns = [\n",
    "\t\"Дата\",\n",
    "\t\"Страна\",\n",
    "\t\"Наименование округа\",\n",
    "\t\"Наименование субъекта\",\n",
    "\t\"Тип агрегации\",\n",
    "\t\"Категория товара или услуги\",\n",
    "\t\"Наименование товара\",\n",
    "\t\"Средняя цена\",\n",
    "\t\"Позиция в рейтинге\",\n",
    "\n",
    "\t\"Общественный транспорт\",\n",
    "\t\"Коммунальные услуги\",\n",
    "\t\"Места размещения\",\n",
    "]\n",
    "\n",
    "flat_dataset = {name: [] for name in new_dataset_columns}\n",
    "\n",
    "def my_argsort(my_list, add=1):\n",
    "\tsorted_list = sorted(my_list)\n",
    "\treturn [sorted_list.index(item)+add for item in my_list]\n",
    "\n",
    "area_name = \"\"\n",
    "for i in range(len(area_coords)):\n",
    "\tstart_coords = area_coords[i]\n",
    "\tstart_y, start_x = start_coords[1]\n",
    "\tend_y, end_x = start_coords[2]\n",
    "\n",
    "\tsubject_name = dataset.iloc[start_y, start_x]\n",
    "\tfor col in range(start_x, end_x):\n",
    "\t\tarea_prices = {prod_type: [] for prod_type in product_types_set} \n",
    "\n",
    "\t\tfor j in range(7, len(dataset)-1):\n",
    "\t\t\tproduct_name = dataset.iloc[j, 0].strip()\n",
    "\t\t\t\n",
    "\t\t\tif len(str(dataset.iloc[3, col])) > 0 and not dataset.iloc[3, col] is np.nan:\n",
    "\t\t\t\tarea_name = dataset.iloc[3, col]\n",
    "\t\t\t\n",
    "\t\t\tavg_price = dataset.iloc[j, col]\n",
    "\t\t\tdate = dataset.iloc[6, col]\n",
    "\t\t\tproducts_type = product_types_dict[product_name]\n",
    "\t\t\tflat_dataset[\"Дата\"].append(date)\n",
    "\t\t\tflat_dataset[\"Страна\"].append(\"Российская Федерация\")\n",
    "\t\t\tflat_dataset[\"Наименование округа\"].append(subject_name)\n",
    "\t\t\tflat_dataset[\"Наименование субъекта\"].append(area_name)\n",
    "\t\t\tflat_dataset[\"Категория товара или услуги\"].append(products_type)\n",
    "\t\t\tflat_dataset[\"Наименование товара\"].append(product_name)\n",
    "\t\t\tflat_dataset[\"Средняя цена\"].append(avg_price)\n",
    "\t\t\tflat_dataset[\"Позиция в рейтинге\"].append(\"\")\n",
    "\n",
    "\t\t\tif products_type == \"Общественный транспорт\":\n",
    "\t\t\t\tflat_dataset['Общественный транспорт'].append(\"Общественный транспорт\")\n",
    "\t\t\t\tflat_dataset['Коммунальные услуги'].append(\"\")\n",
    "\t\t\t\tflat_dataset['Места размещения'].append(\"\")\n",
    "\n",
    "\t\t\tif subject_name.strip() == \"\":\n",
    "\t\t\t\tflat_dataset[\"Тип агрегации\"].append(\"Общее значение по РФ\")\n",
    "\t\t\t\n",
    "\t\t\tif subject_name.strip() != \"\" and area_name.strip() == \"\":\n",
    "\t\t\t\tflat_dataset[\"Тип агрегации\"].append(\"Общее значение по округу\")\n",
    "\n",
    "\t\t\tif subject_name.strip() != \"\" and area_name.strip() != \"\":\n",
    "\t\t\t\tflat_dataset[\"Тип агрегации\"].append(\"Общее значение по региону\")\n",
    "\n",
    "\n",
    "\t\t\tif products_type == \"Коммунальные услуги\":\n",
    "\t\t\t\tflat_dataset['Общественный транспорт'].append(\"\")\n",
    "\t\t\t\tflat_dataset['Коммунальные услуги'].append(\"Коммунальные услуги\")\n",
    "\t\t\t\tflat_dataset['Места размещения'].append(\"\")\n",
    "\n",
    "\t\t\tif products_type == \"Места размещения\":\n",
    "\t\t\t\tflat_dataset['Общественный транспорт'].append(\"\")\n",
    "\t\t\t\tflat_dataset['Коммунальные услуги'].append(\"\")\n",
    "\t\t\t\tflat_dataset['Места размещения'].append(\"Места размещения\")\n",
    "\n",
    "\t\t\t# area_prices.append(avg_price)\n",
    "\t\t\tarea_prices[products_type].append([len(flat_dataset[\"Позиция в рейтинге\"]) - 1, avg_price])\n",
    "\n",
    "\t\tfor product_type in product_types_set:\n",
    "\t\t\tprices_list = area_prices[product_type]\n",
    "\t\t\tprices_list_avg = [item[1] for item in prices_list]\n",
    "\t\t\tprices_list_avg = my_argsort(prices_list_avg)\n",
    "\t\t\tfor k in range(len(prices_list)):\n",
    "\t\t\t\tpos = prices_list[k][0]\n",
    "\t\t\t\tposition = prices_list_avg[k]\n",
    "\t\t\t\tflat_dataset[\"Позиция в рейтинге\"][pos] = position\n"
   ]
  },
  {
   "cell_type": "code",
   "execution_count": 35,
   "metadata": {},
   "outputs": [],
   "source": [
    "pd.DataFrame(data=flat_dataset).to_excel(\"./test.xlsx\", index=False)"
   ]
  }
 ],
 "metadata": {
  "kernelspec": {
   "display_name": "Python 3.8.8 ('ai_env': venv)",
   "language": "python",
   "name": "python3"
  },
  "language_info": {
   "codemirror_mode": {
    "name": "ipython",
    "version": 3
   },
   "file_extension": ".py",
   "mimetype": "text/x-python",
   "name": "python",
   "nbconvert_exporter": "python",
   "pygments_lexer": "ipython3",
   "version": "3.8.8"
  },
  "orig_nbformat": 4,
  "vscode": {
   "interpreter": {
    "hash": "adcddc8d7429771f4b1432eeada1cd0f7022b0dbce651544b586660268ca02b1"
   }
  }
 },
 "nbformat": 4,
 "nbformat_minor": 2
}
