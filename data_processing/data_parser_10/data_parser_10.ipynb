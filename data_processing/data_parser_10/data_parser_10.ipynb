{
 "cells": [
  {
   "cell_type": "code",
   "execution_count": 1,
   "metadata": {},
   "outputs": [],
   "source": [
    "import pandas as pd\n",
    "import numpy as np"
   ]
  },
  {
   "cell_type": "code",
   "execution_count": 3,
   "metadata": {},
   "outputs": [],
   "source": [
    "product_types = \"\"\"\n",
    "Проезд в трамвае, поездка\n",
    "Проезд в троллейбусе, поездка\n",
    "Проезд в метро, поездка\n",
    "Проезд в городском автобусе,поездка\n",
    "Полет в салоне экономического класса самолета, в расчете на 1000 км пути\n",
    "Водоснабжение горячее, м3\n",
    "Отопление, Гкал\n",
    "Водоотведение, м3\n",
    "Газ сжиженный, м3\n",
    "Проживание в гостинице 1* или в мотеле, сутки с человека\n",
    "Проживание в гостинице 2* , сутки с человека\n",
    "Проживание в гостинице 3* , сутки с человека\n",
    "Проживание в гостинице 4*-5* , сутки с человека\n",
    "Проживание в хостеле, сутки с человека\n",
    "Услуги по снабжению электроэнергией\n",
    "Санаторий, день\n",
    "Дом отдыха, пансионат, день\n",
    "\"\"\".split(\"\\n\")\n",
    "\n",
    "categories = \"\"\"\n",
    "Общественный транспорт\n",
    "Общественный транспорт\n",
    "Общественный транспорт\n",
    "Общественный транспорт\n",
    "Общественный транспорт\n",
    "Коммунальные услуги\n",
    "Коммунальные услуги\n",
    "Коммунальные услуги\n",
    "Коммунальные услуги\n",
    "Места размещения\n",
    "Места размещения\n",
    "Места размещения\n",
    "Места размещения\n",
    "Места размещения\n",
    "Коммунальные услуги\n",
    "Места размещения\n",
    "Места размещения\n",
    "\"\"\".split(\"\\n\")\n",
    "\n",
    "product_types = [item for item in product_types if len(item) > 0]\n",
    "categories = [item for item in categories if len(item) > 0]\n"
   ]
  },
  {
   "cell_type": "code",
   "execution_count": 4,
   "metadata": {},
   "outputs": [
    {
     "data": {
      "text/plain": [
       "{'Проезд в трамвае, поездка': 'Общественный транспорт',\n",
       " 'Проезд в троллейбусе, поездка': 'Общественный транспорт',\n",
       " 'Проезд в метро, поездка': 'Общественный транспорт',\n",
       " 'Проезд в городском автобусе,поездка': 'Общественный транспорт',\n",
       " 'Полет в салоне экономического класса самолета, в расчете на 1000 км пути': 'Общественный транспорт',\n",
       " 'Водоснабжение горячее, м3': 'Коммунальные услуги',\n",
       " 'Отопление, Гкал': 'Коммунальные услуги',\n",
       " 'Водоотведение, м3': 'Коммунальные услуги',\n",
       " 'Газ сжиженный, м3': 'Коммунальные услуги',\n",
       " 'Проживание в гостинице 1* или в мотеле, сутки с человека': 'Места размещения',\n",
       " 'Проживание в гостинице 2* , сутки с человека': 'Места размещения',\n",
       " 'Проживание в гостинице 3* , сутки с человека': 'Места размещения',\n",
       " 'Проживание в гостинице 4*-5* , сутки с человека': 'Места размещения',\n",
       " 'Проживание в хостеле, сутки с человека': 'Места размещения',\n",
       " 'Услуги по снабжению электроэнергией': 'Коммунальные услуги',\n",
       " 'Санаторий, день': 'Места размещения',\n",
       " 'Дом отдыха, пансионат, день': 'Места размещения'}"
      ]
     },
     "execution_count": 4,
     "metadata": {},
     "output_type": "execute_result"
    }
   ],
   "source": [
    "product_types_dict = {product_types[i]: categories[i] for i in range(len(categories))}\n",
    "\n",
    "product_types_dict"
   ]
  },
  {
   "cell_type": "code",
   "execution_count": 6,
   "metadata": {},
   "outputs": [],
   "source": [
    "dataset = pd.read_excel(\"./data/Исходник_Для_парсера_УслугиСредние_потребительские_цены_на_услуги.xlsx\")"
   ]
  },
  {
   "cell_type": "code",
   "execution_count": 7,
   "metadata": {},
   "outputs": [],
   "source": [
    "area_coords = []\n",
    "\n",
    "for i in range(len(dataset.columns)):\n",
    "\titem = dataset.iloc[2, i]\n",
    "\titem = str(item)\n",
    "\tif len(item) > 5:\n",
    "\t\tif len(area_coords) > 0:\n",
    "\t\t\tarea_coords[-1].append([2, i])\n",
    "\t\tarea_coords.append(\n",
    "\t\t\t[\n",
    "\t\t\t\titem,\n",
    "\t\t\t\t[2, i]\n",
    "\t\t\t]\n",
    "\t\t)\n",
    "area_coords[-1].append([2, len(dataset.columns)])\n",
    "\n",
    "area_coords.insert(0,\n",
    "\t['', [2, 1], [2, area_coords[0][1][-1]]]\n",
    ")"
   ]
  },
  {
   "cell_type": "code",
   "execution_count": 8,
   "metadata": {},
   "outputs": [
    {
     "data": {
      "text/plain": [
       "[['', [2, 1], [2, 5]],\n",
       " ['Центральный федеральный округ', [2, 5], [2, 81]],\n",
       " ['Северо-Западный федеральный округ', [2, 81], [2, 129]],\n",
       " ['Южный федеральный округ', [2, 129], [2, 165]],\n",
       " ['Северо-Кавказский федеральный округ', [2, 165], [2, 197]],\n",
       " ['Приволжский федеральный округ', [2, 197], [2, 257]],\n",
       " ['Уральский федеральный округ', [2, 257], [2, 285]],\n",
       " ['Сибирский федеральный округ', [2, 285], [2, 329]],\n",
       " ['Дальневосточный федеральный округ', [2, 329], [2, 377]]]"
      ]
     },
     "execution_count": 8,
     "metadata": {},
     "output_type": "execute_result"
    }
   ],
   "source": [
    "area_coords"
   ]
  },
  {
   "cell_type": "code",
   "execution_count": 9,
   "metadata": {},
   "outputs": [
    {
     "data": {
      "text/plain": [
       "['Общественный транспорт', 'Коммунальные услуги', 'Места размещения']"
      ]
     },
     "execution_count": 9,
     "metadata": {},
     "output_type": "execute_result"
    }
   ],
   "source": [
    "product_types_set = list(set(categories))\n",
    "product_types_set"
   ]
  },
  {
   "cell_type": "code",
   "execution_count": 41,
   "metadata": {},
   "outputs": [
    {
     "name": "stderr",
     "output_type": "stream",
     "text": [
      "C:\\Users\\dimweb\\AppData\\Local\\Temp\\ipykernel_1948\\4037147792.py:97: SettingWithCopyWarning: \n",
      "A value is trying to be set on a copy of a slice from a DataFrame\n",
      "\n",
      "See the caveats in the documentation: https://pandas.pydata.org/pandas-docs/stable/user_guide/indexing.html#returning-a-view-versus-a-copy\n",
      "  p_data['Позиция в рейтинге'][prices_index] = rating\n"
     ]
    }
   ],
   "source": [
    "new_dataset_columns = [\n",
    "\t\"Дата\",\n",
    "\t\"Страна\",\n",
    "\t\"Наименование округа\",\n",
    "\t\"Наименование субъекта\",\n",
    "\t\"Тип агрегации\",\n",
    "\t\"Категория товара или услуги\",\n",
    "\t\"Наименование товара\",\n",
    "\t\"Средняя цена\",\n",
    "\t\"Позиция в рейтинге\",\n",
    "\n",
    "\t*product_types_set\n",
    "]\n",
    "\n",
    "flat_dataset = {name: [] for name in new_dataset_columns}\n",
    "area_names_set = set()\n",
    "dates_set = set()\n",
    "product_name_set = set()\n",
    "\n",
    "def my_argsort(my_list, add=1):\n",
    "\tsorted_list = sorted(my_list)\n",
    "\treturn [sorted_list.index(item)+add for item in my_list]\n",
    "\n",
    "area_name = \"\"\n",
    "for i in range(len(area_coords)):\n",
    "\tstart_coords = area_coords[i]\n",
    "\tstart_y, start_x = start_coords[1]\n",
    "\tend_y, end_x = start_coords[2]\n",
    "\n",
    "\tsubject_name = dataset.iloc[start_y, start_x].strip()\n",
    "\tfor col in range(start_x, end_x):\n",
    "\t\t# area_prices = {prod_type: [] for prod_type in product_types_set} \n",
    "\n",
    "\t\tfor j in range(7, len(dataset)-1):\n",
    "\t\t\tproduct_name = dataset.iloc[j, 0].strip()\n",
    "\t\t\t\n",
    "\t\t\tif len(str(dataset.iloc[3, col])) > 0 and not dataset.iloc[3, col] is np.nan:\n",
    "\t\t\t\tarea_name = dataset.iloc[3, col]\n",
    "\t\t\t\n",
    "\t\t\tavg_price = dataset.iloc[j, col]\n",
    "\t\t\tdate = dataset.iloc[6, col].strip()\n",
    "\t\t\tproducts_type = product_types_dict[product_name]\n",
    "\t\t\tflat_dataset[\"Дата\"].append(date)\n",
    "\t\t\tflat_dataset[\"Страна\"].append(\"Российская Федерация\")\n",
    "\t\t\tflat_dataset[\"Наименование округа\"].append(subject_name)\n",
    "\t\t\tflat_dataset[\"Наименование субъекта\"].append(area_name)\n",
    "\t\t\tflat_dataset[\"Категория товара или услуги\"].append(products_type)\n",
    "\t\t\tflat_dataset[\"Наименование товара\"].append(product_name)\n",
    "\t\t\tflat_dataset[\"Средняя цена\"].append(avg_price)\n",
    "\t\t\tflat_dataset[\"Позиция в рейтинге\"].append(\"\")\n",
    "\n",
    "\t\t\tarea_names_set.add(subject_name)\n",
    "\t\t\tdates_set.add(date)\n",
    "\t\t\tproduct_name_set.add(product_name)\n",
    "\n",
    "\n",
    "\t\t\tif subject_name.strip() == \"\":\n",
    "\t\t\t\tflat_dataset[\"Тип агрегации\"].append(\"Общее значение по РФ\")\n",
    "\t\t\t\n",
    "\t\t\tif subject_name.strip() != \"\" and area_name.strip() == \"\":\n",
    "\t\t\t\tflat_dataset[\"Тип агрегации\"].append(\"Общее значение по округу\")\n",
    "\n",
    "\t\t\tif subject_name.strip() != \"\" and area_name.strip() != \"\":\n",
    "\t\t\t\tflat_dataset[\"Тип агрегации\"].append(\"Общее значение по региону\")\n",
    "\n",
    "\t\t\t# print(p_type, products_type)\n",
    "\t\t\tfor p_type in product_types_set:\n",
    "\t\t\t\tif p_type.strip() == products_type.strip():\n",
    "\t\t\t\t\tflat_dataset[products_type].append(products_type)\n",
    "\t\t\t\telse:\n",
    "\t\t\t\t\tflat_dataset[p_type].append(\"\")\n",
    "\n",
    "\n",
    "area_names_set = list(area_names_set)\n",
    "dates_set = list(dates_set)\n",
    "product_name_set = list(product_name_set)\n",
    "\n",
    "p_data = pd.DataFrame(data=flat_dataset)\n",
    "\n",
    "for date in dates_set[1:]:\n",
    "\tfor product_name in product_name_set:\n",
    "\t\tprices = p_data[(p_data['Наименование товара'] == product_name) & (p_data['Дата'] == date)]['Средняя цена']\n",
    "\t\tprices_values = prices.values \n",
    "\t\t# print(prices_values)\n",
    "\t\tprices_index = list(prices.index)\n",
    "\t\tnon_nan_prices = {\n",
    "\t\t\t\"prices\": [],\n",
    "\t\t\t\"indexes\": []\n",
    "\t\t}\n",
    "\t\tfor i, price in enumerate(prices_values):\n",
    "\t\t\tif not price is np.nan:\n",
    "\t\t\t\tnon_nan_prices['prices'].append(price)\n",
    "\t\t\t\tnon_nan_prices['indexes'].append(prices_index[i])\n",
    "\t\t\n",
    "\t\trating = my_argsort(non_nan_prices['prices'])\n",
    "\t\tprices_index = pd.Index(non_nan_prices['indexes'])\n",
    "\t\tp_data['Позиция в рейтинге'][prices_index] = rating\n",
    "\t\t# break\n",
    "\t# break"
   ]
  },
  {
   "cell_type": "code",
   "execution_count": 43,
   "metadata": {},
   "outputs": [
    {
     "data": {
      "text/plain": [
       "['',\n",
       " 'Северо-Западный федеральный округ',\n",
       " 'Сибирский федеральный округ',\n",
       " 'Уральский федеральный округ',\n",
       " 'Центральный федеральный округ',\n",
       " 'Северо-Кавказский федеральный округ',\n",
       " 'Приволжский федеральный округ',\n",
       " 'Южный федеральный округ',\n",
       " 'Дальневосточный федеральный округ']"
      ]
     },
     "execution_count": 43,
     "metadata": {},
     "output_type": "execute_result"
    }
   ],
   "source": [
    "area_names_set"
   ]
  },
  {
   "cell_type": "code",
   "execution_count": 42,
   "metadata": {},
   "outputs": [],
   "source": [
    "p_data.to_excel(\"./test.xlsx\", index=False)"
   ]
  }
 ],
 "metadata": {
  "kernelspec": {
   "display_name": "Python 3.8.8 ('ai_env': venv)",
   "language": "python",
   "name": "python3"
  },
  "language_info": {
   "codemirror_mode": {
    "name": "ipython",
    "version": 3
   },
   "file_extension": ".py",
   "mimetype": "text/x-python",
   "name": "python",
   "nbconvert_exporter": "python",
   "pygments_lexer": "ipython3",
   "version": "3.8.8"
  },
  "orig_nbformat": 4,
  "vscode": {
   "interpreter": {
    "hash": "adcddc8d7429771f4b1432eeada1cd0f7022b0dbce651544b586660268ca02b1"
   }
  }
 },
 "nbformat": 4,
 "nbformat_minor": 2
}
