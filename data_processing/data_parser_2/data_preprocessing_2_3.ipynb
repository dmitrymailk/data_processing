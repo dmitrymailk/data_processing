{
 "cells": [
  {
   "cell_type": "code",
   "execution_count": 1,
   "metadata": {},
   "outputs": [],
   "source": [
    "import pandas as pd\n",
    "import numpy as np\n",
    "import copy"
   ]
  },
  {
   "cell_type": "code",
   "execution_count": 6,
   "metadata": {},
   "outputs": [],
   "source": [
    "doc_name = \"./data/Паспорт_21.02\"\n",
    "dataset = pd.read_excel(f\"{doc_name}.xls\")"
   ]
  },
  {
   "cell_type": "code",
   "execution_count": 3,
   "metadata": {},
   "outputs": [
    {
     "data": {
      "text/plain": [
       "Паспорт семейно-демографических показателей Волгоградской области\\nТаблица 1.  01.02.2022              NaN\n",
       "Unnamed: 1                                                                                             NaN\n",
       "Unnamed: 2                                                                                             NaN\n",
       "Unnamed: 3                                                                                             NaN\n",
       "Unnamed: 4                                                                                             NaN\n",
       "                                                                                                 ...      \n",
       "Unnamed: 79                                                                                            NaN\n",
       "Unnamed: 80                                                                                  с 12-ю детьми\n",
       "Unnamed: 81                                                                                  с 13-ю детьми\n",
       "Unnamed: 82                                                                                  с 14-ю детьми\n",
       "Unnamed: 83                                                                                            NaN\n",
       "Name: 2, Length: 84, dtype: object"
      ]
     },
     "execution_count": 3,
     "metadata": {},
     "output_type": "execute_result"
    }
   ],
   "source": [
    "dataset.iloc[2]"
   ]
  },
  {
   "cell_type": "code",
   "execution_count": 7,
   "metadata": {},
   "outputs": [
    {
     "name": "stdout",
     "output_type": "stream",
     "text": [
      "index_phrase 133\n"
     ]
    }
   ],
   "source": [
    "columns_names = [\n",
    "\t\"Наименование района\",\n",
    "\t\"Всего семей\",\n",
    "\t\"Всего детей\",\n",
    "\t\"Детей 6-17 полных лет\",\n",
    "\t\"Детей 18-23 полных лет (обучение в образов.учрежд.начального,среднего,высшего проф.образования очной формы)\",\n",
    "\t\"с 3-мя детьми\",\n",
    "\t\"с 4-мя детьми\",\n",
    "\t\"с 5-ю детьми\",\n",
    "\t\"с 6-ю детьми\",\n",
    "\t\"с 7-ю детьми\",\n",
    "\t\"с 8-ю детьми\",\n",
    "\t\"с 9-ю детьми\",\n",
    "\t\"с 10-ю детьми\",\n",
    "\t\"с 11-ю детьми\",\n",
    "\t\"с 12-ю детьми\",\n",
    "\t\"с 13-ю детьми\",\n",
    "\t\"с 14-ю детьми\",\n",
    "\t\"с 15-ю детьми\"\n",
    "]\n",
    "object_part = {\n",
    "\t\"column_pos\": [],\n",
    "\t\"data\": []\n",
    "}\n",
    "columns_data = {col: copy.deepcopy(object_part) for col in columns_names}\n",
    "columns_first_finded = {col: False for col in columns_names}\n",
    "columns_amount = len(dataset.columns)\n",
    "columns_finded = len(columns_names)\n",
    "table_end_index_row = 0\n",
    "search_table_start_index = 0\n",
    "\n",
    "def search_table_start_by_name(dataset, search_phrase):\n",
    "\tindex_phrase = 0\n",
    "\tfor i in range(len(dataset)):\n",
    "\t\trow = dataset.iloc[i]\n",
    "\t\trow = map(str, list(row.values))\n",
    "\t\tstr_row = \"\".join(row)\n",
    "\n",
    "\t\tif search_phrase in str_row:\n",
    "\t\t\t# print(row)\n",
    "\t\t\tindex_phrase = i\n",
    "\t\t\tbreak\n",
    "\tprint(\"index_phrase\", index_phrase)\n",
    "\treturn index_phrase\n",
    "\n",
    "search_phrase = \"Приемные многодетные семьи\"\n",
    "search_table_start_index = search_table_start_by_name(\n",
    "\tdataset=dataset,\n",
    "\tsearch_phrase=search_phrase\n",
    ")\n",
    "\n",
    "for i in range(search_table_start_index, len(dataset)):\n",
    "\trow = dataset.iloc[i]\n",
    "\trow = map(str, list(row.values))\n",
    "\tstr_row = \"\".join(row)\n",
    "\tif columns_finded > 0:\n",
    "\t\tfor col_name in columns_names:\n",
    "\t\t\tif col_name in str_row and not columns_first_finded[col_name]:\n",
    "\t\t\t\tfor j in range(columns_amount):\n",
    "\t\t\t\t\tcol_data = dataset.iloc[i, j]\n",
    "\t\t\t\t\tif col_name == col_data:\n",
    "\t\t\t\t\t\tcolumns_data[col_name]['column_pos'] = [i, j]\n",
    "\t\t\t\t\t\tcolumns_finded -= 1\n",
    "\t\t\t\t\t\tcolumns_first_finded[col_name] = True\n",
    "\t\t\t\t\t\tbreak\n",
    "\n",
    "\tif \"области\" in str_row:\n",
    "\t\t# print(str_row)\n",
    "\t\ttable_end_index_row = i - 1\n",
    "\t\tbreak "
   ]
  },
  {
   "cell_type": "code",
   "execution_count": 16,
   "metadata": {},
   "outputs": [
    {
     "data": {
      "text/plain": [
       "62"
      ]
     },
     "execution_count": 16,
     "metadata": {},
     "output_type": "execute_result"
    }
   ],
   "source": [
    "table_end_index_row"
   ]
  },
  {
   "cell_type": "code",
   "execution_count": 8,
   "metadata": {},
   "outputs": [
    {
     "data": {
      "text/plain": [
       "{'Наименование района': {'column_pos': [133, 6], 'data': []},\n",
       " 'Всего семей': {'column_pos': [133, 14], 'data': []},\n",
       " 'Всего детей': {'column_pos': [133, 16], 'data': []},\n",
       " 'Детей 6-17 полных лет': {'column_pos': [133, 30], 'data': []},\n",
       " 'Детей 18-23 полных лет (обучение в образов.учрежд.начального,среднего,высшего проф.образования очной формы)': {'column_pos': [133,\n",
       "   37],\n",
       "  'data': []},\n",
       " 'с 3-мя детьми': {'column_pos': [134, 44], 'data': []},\n",
       " 'с 4-мя детьми': {'column_pos': [134, 48], 'data': []},\n",
       " 'с 5-ю детьми': {'column_pos': [134, 55], 'data': []},\n",
       " 'с 6-ю детьми': {'column_pos': [134, 57], 'data': []},\n",
       " 'с 7-ю детьми': {'column_pos': [134, 64], 'data': []},\n",
       " 'с 8-ю детьми': {'column_pos': [134, 69], 'data': []},\n",
       " 'с 9-ю детьми': {'column_pos': [134, 71], 'data': []},\n",
       " 'с 10-ю детьми': {'column_pos': [134, 76], 'data': []},\n",
       " 'с 11-ю детьми': {'column_pos': [134, 78], 'data': []},\n",
       " 'с 12-ю детьми': {'column_pos': [134, 80], 'data': []},\n",
       " 'с 13-ю детьми': {'column_pos': [134, 81], 'data': []},\n",
       " 'с 14-ю детьми': {'column_pos': [134, 82], 'data': []},\n",
       " 'с 15-ю детьми': {'column_pos': [135, 83], 'data': []}}"
      ]
     },
     "execution_count": 8,
     "metadata": {},
     "output_type": "execute_result"
    }
   ],
   "source": [
    "columns_data"
   ]
  },
  {
   "cell_type": "code",
   "execution_count": 8,
   "metadata": {},
   "outputs": [
    {
     "data": {
      "text/plain": [
       "'И т о г о'"
      ]
     },
     "execution_count": 8,
     "metadata": {},
     "output_type": "execute_result"
    }
   ],
   "source": [
    "dataset.iloc[62, 0]"
   ]
  },
  {
   "cell_type": "code",
   "execution_count": 9,
   "metadata": {},
   "outputs": [
    {
     "data": {
      "text/plain": [
       "[140,\n",
       " 411,\n",
       " 827,\n",
       " 136,\n",
       " 406,\n",
       " 242,\n",
       " 350,\n",
       " 419,\n",
       " 656,\n",
       " 501,\n",
       " 155,\n",
       " 216,\n",
       " 505,\n",
       " 323,\n",
       " 453,\n",
       " 315,\n",
       " 107,\n",
       " 447,\n",
       " 353,\n",
       " 244,\n",
       " 294,\n",
       " 217,\n",
       " 839,\n",
       " 201,\n",
       " 188,\n",
       " 547,\n",
       " 188,\n",
       " 672,\n",
       " 356,\n",
       " 440,\n",
       " 231,\n",
       " 127,\n",
       " 176,\n",
       " 2223,\n",
       " 853,\n",
       " 456,\n",
       " 310,\n",
       " 352,\n",
       " 602,\n",
       " 1398,\n",
       " 862,\n",
       " 1161,\n",
       " 1010,\n",
       " 1159,\n",
       " 1011,\n",
       " 458,\n",
       " 23537,\n",
       " 140,\n",
       " 411,\n",
       " 819,\n",
       " 136,\n",
       " 403,\n",
       " 233,\n",
       " 345,\n",
       " 412,\n",
       " 651,\n",
       " 499,\n",
       " 154,\n",
       " 216,\n",
       " 503,\n",
       " 318,\n",
       " 451,\n",
       " 315,\n",
       " 105,\n",
       " 441,\n",
       " 353,\n",
       " 243,\n",
       " 293,\n",
       " 215,\n",
       " 838,\n",
       " 200,\n",
       " 186,\n",
       " 544,\n",
       " 187,\n",
       " 671,\n",
       " 354,\n",
       " 439,\n",
       " 230,\n",
       " 127,\n",
       " 172,\n",
       " 2212,\n",
       " 848,\n",
       " 451,\n",
       " 305,\n",
       " 345,\n",
       " 600,\n",
       " 1392,\n",
       " 858,\n",
       " 1156,\n",
       " 1009,\n",
       " 1151,\n",
       " 1005,\n",
       " 457,\n",
       " 23393,\n",
       " 0,\n",
       " 8,\n",
       " 1,\n",
       " 3,\n",
       " 9,\n",
       " 5,\n",
       " 7,\n",
       " 5,\n",
       " 2,\n",
       " 1,\n",
       " 0,\n",
       " 2,\n",
       " 5,\n",
       " 2,\n",
       " 0,\n",
       " 2,\n",
       " 6,\n",
       " 0,\n",
       " 1,\n",
       " 1,\n",
       " 2,\n",
       " 1,\n",
       " 1,\n",
       " 2,\n",
       " 3,\n",
       " 1,\n",
       " 1,\n",
       " 2,\n",
       " 1,\n",
       " 1,\n",
       " 0,\n",
       " 4,\n",
       " 12,\n",
       " 5,\n",
       " 5,\n",
       " 5,\n",
       " 7,\n",
       " 2,\n",
       " 6,\n",
       " 5,\n",
       " 5,\n",
       " 1,\n",
       " 8,\n",
       " 6,\n",
       " 1]"
      ]
     },
     "execution_count": 9,
     "metadata": {},
     "output_type": "execute_result"
    }
   ],
   "source": [
    "def parse_column_table(dataset, column_pos, end_index, column_name):\n",
    "\tcol_data = []\n",
    "\tstart_index_row = column_pos[0] + 1\n",
    "\tcolumn_index = column_pos[1]\n",
    "\tstatistics_col = {\n",
    "\t\t\"str\": 0,\n",
    "\t\t\"int\": 0\n",
    "\t}\n",
    "\tfor i in range(start_index_row, end_index):\n",
    "\t\trow_data = dataset.iloc[i, column_index]\n",
    "\t\tcond_1 = (isinstance(row_data, str) or isinstance(row_data, int))\n",
    "\t\tcond_2 = column_name != row_data\n",
    "\t\tcond_3 = not str(dataset.iloc[i, 0]) in \"И т о г о\"\n",
    "\t\tif cond_1 and cond_2 and cond_3:\n",
    "\t\t\t# print(row_data)\n",
    "\t\t\tcol_data.append(row_data)\n",
    "\t\t\n",
    "\t\tif isinstance(row_data, str):\n",
    "\t\t\tstatistics_col['str'] += 1\n",
    "\t\telif isinstance(row_data, int):\n",
    "\t\t\tstatistics_col['int'] += 1\n",
    "\t\n",
    "\tnew_col_data = []\n",
    "\tfor item in col_data:\n",
    "\t\tif statistics_col['str'] > statistics_col['int'] and isinstance(item, str):\n",
    "\t\t\t\tnew_col_data.append(item)\n",
    "\n",
    "\t\telif statistics_col['str'] < statistics_col['int'] and isinstance(item, int):\n",
    "\t\t\t\tnew_col_data.append(item)\n",
    "\t\t\t\n",
    "\treturn new_col_data\n",
    "\n",
    "\n",
    "parse_column_table(\n",
    "\tdataset=dataset,\n",
    "\tcolumn_pos=[2, 44],\n",
    "\tend_index=table_end_index_row,\n",
    "\tcolumn_name='с 3-мя детьми'\n",
    ")"
   ]
  },
  {
   "cell_type": "code",
   "execution_count": 66,
   "metadata": {},
   "outputs": [
    {
     "data": {
      "text/plain": [
       "{'Наименование района': {'column_pos': [1, 6], 'data': []},\n",
       " 'Всего семей': {'column_pos': [1, 14], 'data': []},\n",
       " 'Всего детей': {'column_pos': [1, 16], 'data': []},\n",
       " 'Детей 6-17 полных лет': {'column_pos': [1, 30], 'data': []},\n",
       " 'Детей 18-23 полных лет (обучение в образов.учрежд.начального,среднего,высшего проф.образования очной формы)': {'column_pos': [1,\n",
       "   37],\n",
       "  'data': []},\n",
       " 'с 3-мя детьми': {'column_pos': [2, 44], 'data': []},\n",
       " 'с 4-мя детьми': {'column_pos': [2, 48], 'data': []},\n",
       " 'с 5-ю детьми': {'column_pos': [2, 55], 'data': []},\n",
       " 'с 6-ю детьми': {'column_pos': [2, 57], 'data': []},\n",
       " 'с 7-ю детьми': {'column_pos': [2, 64], 'data': []},\n",
       " 'с 8-ю детьми': {'column_pos': [2, 69], 'data': []},\n",
       " 'с 9-ю детьми': {'column_pos': [2, 71], 'data': []},\n",
       " 'с 10-ю детьми': {'column_pos': [2, 76], 'data': []},\n",
       " 'с 11-ю детьми': {'column_pos': [2, 78], 'data': []},\n",
       " 'с 12-ю детьми': {'column_pos': [2, 80], 'data': []},\n",
       " 'с 13-ю детьми': {'column_pos': [2, 81], 'data': []},\n",
       " 'с 14-ю детьми': {'column_pos': [2, 82], 'data': []},\n",
       " 'с 15-ю детьми': {'column_pos': [3, 83], 'data': []}}"
      ]
     },
     "execution_count": 66,
     "metadata": {},
     "output_type": "execute_result"
    }
   ],
   "source": [
    "columns_data"
   ]
  },
  {
   "cell_type": "code",
   "execution_count": 10,
   "metadata": {},
   "outputs": [
    {
     "name": "stdout",
     "output_type": "stream",
     "text": [
      "45\n",
      "45\n",
      "45\n",
      "45\n",
      "45\n",
      "45\n",
      "45\n",
      "45\n",
      "45\n",
      "45\n",
      "45\n",
      "45\n",
      "45\n",
      "45\n",
      "45\n",
      "45\n",
      "45\n",
      "45\n"
     ]
    }
   ],
   "source": [
    "dataset_object = {name: [] for name in columns_names}\n",
    "\n",
    "for col_name in columns_names:\n",
    "\tcol_info = columns_data[col_name]\n",
    "\tcolumn_pos = col_info[\"column_pos\"]\n",
    "\t# print(column_pos)\n",
    "\tcol_data = parse_column_table(\n",
    "\t\tdataset=dataset,\n",
    "\t\tcolumn_pos=column_pos,\n",
    "\t\tend_index=table_end_index_row,\n",
    "\t\tcolumn_name=col_name\n",
    "\t)\n",
    "\tprint(len(col_data))\n",
    "\tdataset_object[col_name] = col_data "
   ]
  },
  {
   "cell_type": "code",
   "execution_count": 11,
   "metadata": {},
   "outputs": [],
   "source": [
    "new_dataset = pd.DataFrame(data=dataset_object)\n",
    "new_dataset['Дата'] = \"12/45/23\"\n",
    "new_dataset.to_csv(f\"./{doc_name}_adopted_family.csv\", index=False)"
   ]
  },
  {
   "cell_type": "code",
   "execution_count": 1,
   "metadata": {},
   "outputs": [],
   "source": []
  }
 ],
 "metadata": {
  "interpreter": {
   "hash": "c9258148627ad5a9c1cfe4ce5c6e243620826dc5184764f51a09a142cb30e363"
  },
  "kernelspec": {
   "display_name": "Python 3.8.8 ('ai_env': venv)",
   "language": "python",
   "name": "python3"
  },
  "language_info": {
   "codemirror_mode": {
    "name": "ipython",
    "version": 3
   },
   "file_extension": ".py",
   "mimetype": "text/x-python",
   "name": "python",
   "nbconvert_exporter": "python",
   "pygments_lexer": "ipython3",
   "version": "3.8.8"
  },
  "orig_nbformat": 4
 },
 "nbformat": 4,
 "nbformat_minor": 2
}
