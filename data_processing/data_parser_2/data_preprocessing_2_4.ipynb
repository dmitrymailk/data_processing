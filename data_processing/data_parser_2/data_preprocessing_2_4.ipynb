{
 "cells": [
  {
   "cell_type": "code",
   "execution_count": 22,
   "metadata": {},
   "outputs": [],
   "source": [
    "import pandas as pd\n",
    "import numpy as np\n",
    "import copy"
   ]
  },
  {
   "cell_type": "code",
   "execution_count": 32,
   "metadata": {},
   "outputs": [],
   "source": [
    "doc_name = \"./data/Паспорт_21.02\"\n",
    "dataset = pd.read_excel(f\"{doc_name}.xls\")"
   ]
  },
  {
   "cell_type": "code",
   "execution_count": 33,
   "metadata": {},
   "outputs": [
    {
     "data": {
      "text/plain": [
       "Паспорт семейно-демографических показателей Волгоградской области\\nТаблица 1.  01.02.2022              NaN\n",
       "Unnamed: 1                                                                                             NaN\n",
       "Unnamed: 2                                                                                             NaN\n",
       "Unnamed: 3                                                                                             NaN\n",
       "Unnamed: 4                                                                                             NaN\n",
       "                                                                                                 ...      \n",
       "Unnamed: 79                                                                                            NaN\n",
       "Unnamed: 80                                                                                  с 12-ю детьми\n",
       "Unnamed: 81                                                                                  с 13-ю детьми\n",
       "Unnamed: 82                                                                                  с 14-ю детьми\n",
       "Unnamed: 83                                                                                            NaN\n",
       "Name: 2, Length: 84, dtype: object"
      ]
     },
     "execution_count": 33,
     "metadata": {},
     "output_type": "execute_result"
    }
   ],
   "source": [
    "dataset.iloc[2]"
   ]
  },
  {
   "cell_type": "code",
   "execution_count": 34,
   "metadata": {},
   "outputs": [
    {
     "name": "stdout",
     "output_type": "stream",
     "text": [
      "index_phrase 246\n"
     ]
    }
   ],
   "source": [
    "columns_names = [\n",
    "\t\"Наименование района\",\n",
    "\t\"Всего семей\",\n",
    "\t\"Всего детей\",\n",
    "\t\"Семьи с 2-мя детьми-близнецами\",\n",
    "\t\"Семьи с 3-мя детьми-близнецами\",\n",
    "]\n",
    "object_part = {\n",
    "\t\"column_pos\": [],\n",
    "\t\"data\": []\n",
    "}\n",
    "columns_data = {col: copy.deepcopy(object_part) for col in columns_names}\n",
    "columns_first_finded = {col: False for col in columns_names}\n",
    "columns_amount = len(dataset.columns)\n",
    "columns_finded = len(columns_names)\n",
    "table_end_index_row = 0\n",
    "search_table_start_index = 0\n",
    "\n",
    "def search_table_start_by_name(dataset, search_phrase):\n",
    "\tindex_phrase = 0\n",
    "\tfor i in range(len(dataset)):\n",
    "\t\trow = dataset.iloc[i]\n",
    "\t\trow = map(str, list(row.values))\n",
    "\t\tstr_row = \"\".join(row)\n",
    "\n",
    "\t\tif search_phrase in str_row:\n",
    "\t\t\t# print(row)\n",
    "\t\t\tindex_phrase = i\n",
    "\t\t\tbreak\n",
    "\tprint(\"index_phrase\", index_phrase)\n",
    "\treturn index_phrase\n",
    "\n",
    "search_phrase = \"Семьи с близнецами\"\n",
    "search_table_start_index = search_table_start_by_name(\n",
    "\tdataset=dataset,\n",
    "\tsearch_phrase=search_phrase\n",
    ")\n",
    "\n",
    "for i in range(search_table_start_index, len(dataset)):\n",
    "\trow = dataset.iloc[i]\n",
    "\trow = map(str, list(row.values))\n",
    "\tstr_row = \"\".join(row)\n",
    "\tif columns_finded > 0:\n",
    "\t\tfor col_name in columns_names:\n",
    "\t\t\tif col_name in str_row and not columns_first_finded[col_name]:\n",
    "\t\t\t\tfor j in range(columns_amount):\n",
    "\t\t\t\t\tcol_data = dataset.iloc[i, j]\n",
    "\t\t\t\t\tif col_name == col_data:\n",
    "\t\t\t\t\t\tcolumns_data[col_name]['column_pos'] = [i, j]\n",
    "\t\t\t\t\t\tcolumns_finded -= 1\n",
    "\t\t\t\t\t\tcolumns_first_finded[col_name] = True\n",
    "\t\t\t\t\t\tbreak\n",
    "\n",
    "\tif \"области\" in str_row:\n",
    "\t\t# print(str_row)\n",
    "\t\ttable_end_index_row = i - 1\n",
    "\t\tbreak "
   ]
  },
  {
   "cell_type": "code",
   "execution_count": 25,
   "metadata": {},
   "outputs": [
    {
     "data": {
      "text/plain": [
       "241"
      ]
     },
     "execution_count": 25,
     "metadata": {},
     "output_type": "execute_result"
    }
   ],
   "source": [
    "table_end_index_row"
   ]
  },
  {
   "cell_type": "code",
   "execution_count": 35,
   "metadata": {},
   "outputs": [
    {
     "data": {
      "text/plain": [
       "{'Наименование района': {'column_pos': [248, 11], 'data': []},\n",
       " 'Всего семей': {'column_pos': [248, 25], 'data': []},\n",
       " 'Всего детей': {'column_pos': [248, 53], 'data': []},\n",
       " 'Семьи с 2-мя детьми-близнецами': {'column_pos': [], 'data': []},\n",
       " 'Семьи с 3-мя детьми-близнецами': {'column_pos': [], 'data': []}}"
      ]
     },
     "execution_count": 35,
     "metadata": {},
     "output_type": "execute_result"
    }
   ],
   "source": [
    "columns_data"
   ]
  },
  {
   "cell_type": "code",
   "execution_count": 26,
   "metadata": {},
   "outputs": [
    {
     "data": {
      "text/plain": [
       "'И т о г о'"
      ]
     },
     "execution_count": 26,
     "metadata": {},
     "output_type": "execute_result"
    }
   ],
   "source": [
    "dataset.iloc[62, 0]"
   ]
  },
  {
   "cell_type": "code",
   "execution_count": 36,
   "metadata": {},
   "outputs": [
    {
     "data": {
      "text/plain": [
       "[20,\n",
       " 41,\n",
       " 7,\n",
       " 19,\n",
       " 18,\n",
       " 20,\n",
       " 18,\n",
       " 42,\n",
       " 9,\n",
       " 14,\n",
       " 16,\n",
       " 24,\n",
       " 4,\n",
       " 11,\n",
       " 29,\n",
       " 7,\n",
       " 15,\n",
       " 9,\n",
       " 26,\n",
       " 9,\n",
       " 18,\n",
       " 10,\n",
       " 39,\n",
       " 13,\n",
       " 24,\n",
       " 11,\n",
       " 11,\n",
       " 128,\n",
       " 65,\n",
       " 4,\n",
       " 25,\n",
       " 52,\n",
       " 19,\n",
       " 80,\n",
       " 61,\n",
       " 66,\n",
       " 95,\n",
       " 29]"
      ]
     },
     "execution_count": 36,
     "metadata": {},
     "output_type": "execute_result"
    }
   ],
   "source": [
    "def parse_column_table(dataset, column_pos, end_index, column_name):\n",
    "\tcol_data = []\n",
    "\tstart_index_row = column_pos[0] + 1\n",
    "\tcolumn_index = column_pos[1]\n",
    "\tstatistics_col = {\n",
    "\t\t\"str\": 0,\n",
    "\t\t\"int\": 0\n",
    "\t}\n",
    "\tfor i in range(start_index_row, end_index):\n",
    "\t\trow_data = dataset.iloc[i, column_index]\n",
    "\t\tcond_1 = (isinstance(row_data, str) or isinstance(row_data, int))\n",
    "\t\tcond_2 = column_name != row_data\n",
    "\t\trow = dataset.iloc[i]\n",
    "\t\trow_str = \"\".join(list(map(str, list(row.values))))\n",
    "\t\tcond_3 = not \"и т о г о\" in row_str.lower() \n",
    "\t\tif cond_1 and cond_2 and cond_3:\n",
    "\t\t\t# print(row_data)\n",
    "\t\t\tcol_data.append(row_data)\n",
    "\t\t\n",
    "\t\tif isinstance(row_data, str):\n",
    "\t\t\tstatistics_col['str'] += 1\n",
    "\t\telif isinstance(row_data, int):\n",
    "\t\t\tstatistics_col['int'] += 1\n",
    "\t\n",
    "\tnew_col_data = []\n",
    "\tfor item in col_data:\n",
    "\t\tif statistics_col['str'] > statistics_col['int'] and isinstance(item, str):\n",
    "\t\t\t\tnew_col_data.append(item)\n",
    "\n",
    "\t\telif statistics_col['str'] < statistics_col['int'] and isinstance(item, int):\n",
    "\t\t\t\tnew_col_data.append(item)\n",
    "\t\t\t\n",
    "\treturn new_col_data\n",
    "\n",
    "\n",
    "parse_column_table(\n",
    "\tdataset=dataset,\n",
    "\tcolumn_pos=[200, 22],\n",
    "\tend_index=table_end_index_row,\n",
    "\tcolumn_name='Всего семей'\n",
    ")"
   ]
  },
  {
   "cell_type": "code",
   "execution_count": 37,
   "metadata": {},
   "outputs": [
    {
     "data": {
      "text/plain": [
       "{'Наименование района': {'column_pos': [248, 11], 'data': []},\n",
       " 'Всего семей': {'column_pos': [248, 25], 'data': []},\n",
       " 'Всего детей': {'column_pos': [248, 53], 'data': []},\n",
       " 'Семьи с 2-мя детьми-близнецами': {'column_pos': [], 'data': []},\n",
       " 'Семьи с 3-мя детьми-близнецами': {'column_pos': [], 'data': []}}"
      ]
     },
     "execution_count": 37,
     "metadata": {},
     "output_type": "execute_result"
    }
   ],
   "source": [
    "columns_data"
   ]
  },
  {
   "cell_type": "code",
   "execution_count": 38,
   "metadata": {},
   "outputs": [
    {
     "name": "stdout",
     "output_type": "stream",
     "text": [
      "46\n",
      "46\n",
      "46\n"
     ]
    },
    {
     "ename": "IndexError",
     "evalue": "list index out of range",
     "output_type": "error",
     "traceback": [
      "\u001b[1;31m---------------------------------------------------------------------------\u001b[0m",
      "\u001b[1;31mIndexError\u001b[0m                                Traceback (most recent call last)",
      "\u001b[1;32md:\\programming\\AI\\volgograd\\data_processing\\data_parser_2\\data_preprocessing_2_4.ipynb Cell 10'\u001b[0m in \u001b[0;36m<cell line: 3>\u001b[1;34m()\u001b[0m\n\u001b[0;32m      <a href='vscode-notebook-cell:/d%3A/programming/AI/volgograd/data_processing/data_parser_2/data_preprocessing_2_4.ipynb#ch0000009?line=4'>5</a>\u001b[0m column_pos \u001b[39m=\u001b[39m col_info[\u001b[39m\"\u001b[39m\u001b[39mcolumn_pos\u001b[39m\u001b[39m\"\u001b[39m]\n\u001b[0;32m      <a href='vscode-notebook-cell:/d%3A/programming/AI/volgograd/data_processing/data_parser_2/data_preprocessing_2_4.ipynb#ch0000009?line=5'>6</a>\u001b[0m \u001b[39m# print(column_pos)\u001b[39;00m\n\u001b[1;32m----> <a href='vscode-notebook-cell:/d%3A/programming/AI/volgograd/data_processing/data_parser_2/data_preprocessing_2_4.ipynb#ch0000009?line=6'>7</a>\u001b[0m col_data \u001b[39m=\u001b[39m parse_column_table(\n\u001b[0;32m      <a href='vscode-notebook-cell:/d%3A/programming/AI/volgograd/data_processing/data_parser_2/data_preprocessing_2_4.ipynb#ch0000009?line=7'>8</a>\u001b[0m \tdataset\u001b[39m=\u001b[39;49mdataset,\n\u001b[0;32m      <a href='vscode-notebook-cell:/d%3A/programming/AI/volgograd/data_processing/data_parser_2/data_preprocessing_2_4.ipynb#ch0000009?line=8'>9</a>\u001b[0m \tcolumn_pos\u001b[39m=\u001b[39;49mcolumn_pos,\n\u001b[0;32m     <a href='vscode-notebook-cell:/d%3A/programming/AI/volgograd/data_processing/data_parser_2/data_preprocessing_2_4.ipynb#ch0000009?line=9'>10</a>\u001b[0m \tend_index\u001b[39m=\u001b[39;49mtable_end_index_row,\n\u001b[0;32m     <a href='vscode-notebook-cell:/d%3A/programming/AI/volgograd/data_processing/data_parser_2/data_preprocessing_2_4.ipynb#ch0000009?line=10'>11</a>\u001b[0m \tcolumn_name\u001b[39m=\u001b[39;49mcol_name\n\u001b[0;32m     <a href='vscode-notebook-cell:/d%3A/programming/AI/volgograd/data_processing/data_parser_2/data_preprocessing_2_4.ipynb#ch0000009?line=11'>12</a>\u001b[0m )\n\u001b[0;32m     <a href='vscode-notebook-cell:/d%3A/programming/AI/volgograd/data_processing/data_parser_2/data_preprocessing_2_4.ipynb#ch0000009?line=12'>13</a>\u001b[0m \u001b[39mprint\u001b[39m(\u001b[39mlen\u001b[39m(col_data))\n\u001b[0;32m     <a href='vscode-notebook-cell:/d%3A/programming/AI/volgograd/data_processing/data_parser_2/data_preprocessing_2_4.ipynb#ch0000009?line=13'>14</a>\u001b[0m dataset_object[col_name] \u001b[39m=\u001b[39m col_data\n",
      "\u001b[1;32md:\\programming\\AI\\volgograd\\data_processing\\data_parser_2\\data_preprocessing_2_4.ipynb Cell 8'\u001b[0m in \u001b[0;36mparse_column_table\u001b[1;34m(dataset, column_pos, end_index, column_name)\u001b[0m\n\u001b[0;32m      <a href='vscode-notebook-cell:/d%3A/programming/AI/volgograd/data_processing/data_parser_2/data_preprocessing_2_4.ipynb#ch0000007?line=0'>1</a>\u001b[0m \u001b[39mdef\u001b[39;00m \u001b[39mparse_column_table\u001b[39m(dataset, column_pos, end_index, column_name):\n\u001b[0;32m      <a href='vscode-notebook-cell:/d%3A/programming/AI/volgograd/data_processing/data_parser_2/data_preprocessing_2_4.ipynb#ch0000007?line=1'>2</a>\u001b[0m \tcol_data \u001b[39m=\u001b[39m []\n\u001b[1;32m----> <a href='vscode-notebook-cell:/d%3A/programming/AI/volgograd/data_processing/data_parser_2/data_preprocessing_2_4.ipynb#ch0000007?line=2'>3</a>\u001b[0m \tstart_index_row \u001b[39m=\u001b[39m column_pos[\u001b[39m0\u001b[39;49m] \u001b[39m+\u001b[39m \u001b[39m1\u001b[39m\n\u001b[0;32m      <a href='vscode-notebook-cell:/d%3A/programming/AI/volgograd/data_processing/data_parser_2/data_preprocessing_2_4.ipynb#ch0000007?line=3'>4</a>\u001b[0m \tcolumn_index \u001b[39m=\u001b[39m column_pos[\u001b[39m1\u001b[39m]\n\u001b[0;32m      <a href='vscode-notebook-cell:/d%3A/programming/AI/volgograd/data_processing/data_parser_2/data_preprocessing_2_4.ipynb#ch0000007?line=4'>5</a>\u001b[0m \tstatistics_col \u001b[39m=\u001b[39m {\n\u001b[0;32m      <a href='vscode-notebook-cell:/d%3A/programming/AI/volgograd/data_processing/data_parser_2/data_preprocessing_2_4.ipynb#ch0000007?line=5'>6</a>\u001b[0m \t\t\u001b[39m\"\u001b[39m\u001b[39mstr\u001b[39m\u001b[39m\"\u001b[39m: \u001b[39m0\u001b[39m,\n\u001b[0;32m      <a href='vscode-notebook-cell:/d%3A/programming/AI/volgograd/data_processing/data_parser_2/data_preprocessing_2_4.ipynb#ch0000007?line=6'>7</a>\u001b[0m \t\t\u001b[39m\"\u001b[39m\u001b[39mint\u001b[39m\u001b[39m\"\u001b[39m: \u001b[39m0\u001b[39m\n\u001b[0;32m      <a href='vscode-notebook-cell:/d%3A/programming/AI/volgograd/data_processing/data_parser_2/data_preprocessing_2_4.ipynb#ch0000007?line=7'>8</a>\u001b[0m \t}\n",
      "\u001b[1;31mIndexError\u001b[0m: list index out of range"
     ]
    }
   ],
   "source": [
    "dataset_object = {name: [] for name in columns_names}\n",
    "\n",
    "for col_name in columns_names:\n",
    "\tcol_info = columns_data[col_name]\n",
    "\tcolumn_pos = col_info[\"column_pos\"]\n",
    "\t# print(column_pos)\n",
    "\tcol_data = parse_column_table(\n",
    "\t\tdataset=dataset,\n",
    "\t\tcolumn_pos=column_pos,\n",
    "\t\tend_index=table_end_index_row,\n",
    "\t\tcolumn_name=col_name\n",
    "\t)\n",
    "\tprint(len(col_data))\n",
    "\tdataset_object[col_name] = col_data "
   ]
  },
  {
   "cell_type": "code",
   "execution_count": 31,
   "metadata": {},
   "outputs": [],
   "source": [
    "new_dataset = pd.DataFrame(data=dataset_object)\n",
    "new_dataset['Дата'] = \"12/45/23\"\n",
    "new_dataset.to_csv(f\"./{doc_name}_twins.csv\", index=False)"
   ]
  },
  {
   "cell_type": "code",
   "execution_count": 1,
   "metadata": {},
   "outputs": [],
   "source": []
  }
 ],
 "metadata": {
  "interpreter": {
   "hash": "c9258148627ad5a9c1cfe4ce5c6e243620826dc5184764f51a09a142cb30e363"
  },
  "kernelspec": {
   "display_name": "Python 3.8.8 ('ai_env': venv)",
   "language": "python",
   "name": "python3"
  },
  "language_info": {
   "codemirror_mode": {
    "name": "ipython",
    "version": 3
   },
   "file_extension": ".py",
   "mimetype": "text/x-python",
   "name": "python",
   "nbconvert_exporter": "python",
   "pygments_lexer": "ipython3",
   "version": "3.8.8"
  },
  "orig_nbformat": 4
 },
 "nbformat": 4,
 "nbformat_minor": 2
}
