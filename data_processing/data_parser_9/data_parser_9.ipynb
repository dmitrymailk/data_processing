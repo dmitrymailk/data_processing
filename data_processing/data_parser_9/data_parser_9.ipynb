{
 "cells": [
  {
   "cell_type": "code",
   "execution_count": 17,
   "metadata": {},
   "outputs": [],
   "source": [
    "import pandas as pd\n",
    "import numpy as np"
   ]
  },
  {
   "cell_type": "code",
   "execution_count": 13,
   "metadata": {},
   "outputs": [],
   "source": [
    "product_types = \"\"\"\n",
    "Брюки для детей школьного возраста из джинсовой ткани, шт.\n",
    "Пеленки для новорожденных, шт.\n",
    "Костюм спортивный для детей школьного возраста, шт.\n",
    "Майка, футболка мужская бельевая, шт.\n",
    "Футболка детская, шт.\n",
    "Колготки женские эластичные, шт.\n",
    "Носки мужские, пара\n",
    "Кроссовые туфли для детей, пара\n",
    "Кроссовые туфли для взрослых, пара\n",
    "Мыло хозяйственное, 200 г\n",
    "Порошок стиральный, кг\n",
    "Мыло туалетное, 100 г\n",
    "Шампунь, 250 мл\n",
    "Паста зубная, 100 г (100 мл)\n",
    "Щетка зубная, шт.\n",
    "Сигареты с фильтром, пачка\n",
    "Спички, коробок\n",
    "Электропылесос напольный, шт.\n",
    "Бумага туалетная, рулон\n",
    "Подгузники детские бумажные, 10 шт.\n",
    "Прокладки женские гигиенические, 10 шт.\n",
    "Телевизор, шт.\n",
    "Смартфон, шт.\n",
    "Плиты древесностружечные, ориентированно-стружечные, м2\n",
    "Доска обрезная, м3\n",
    "Легковой автомобиль отечественный новый, шт.\n",
    "Легковой автомобиль иностранной марки новый, шт.\n",
    "Бензин автомобильный\n",
    "Бензин автомобильный марки АИ-92, л\n",
    "Бензин автомобильный марки АИ-95, л\n",
    "Дизельное топливо, л\n",
    "Бензин автомобильный марки АИ-98 и выше, л\n",
    "Корвалол, 25 мл\n",
    "Валидол, 60 мг, 10 таблеток\n",
    "Метамизол натрия (Анальгин отечественный), 500 мг, 10 таблеток\n",
    "Комбинированные анальгетики, 10 таблеток\n",
    "Нимесулид, 100 мг, 10 таблеток\n",
    "Левомеколь, мазь, 40 г\n",
    "Аллохол, 50 таблеток\n",
    "Ренгалин, 10 таблеток\n",
    "Эргоферон, 20 таблеток\n",
    "Поливитамины, 10 шт.\n",
    "Сухие корма для домашних животных, кг\n",
    "\"\"\".split(\"\\n\")\n",
    "\n",
    "product_types = [item for item in product_types if len(item) > 0]\n",
    "# product_types = {item: \"\" for item in product_types}\n",
    "data = {\n",
    "\t\"product_types\": product_types,\n",
    "\t\"category\": len(product_types) * ['']\n",
    "}\n",
    "pd.DataFrame(data=data).to_excel(\"types.xlsx\",index=False)"
   ]
  },
  {
   "cell_type": "code",
   "execution_count": null,
   "metadata": {},
   "outputs": [],
   "source": [
    "product_types = pd.read_excel(\"./data/types.xlsx\")\n",
    "product_types_dict = {product_types['product_types'].iloc[i]:product_types['category'].iloc[i].strip() for i in range(len(product_types['product_types'])) }\n",
    "\n",
    "product_types_dict"
   ]
  },
  {
   "cell_type": "code",
   "execution_count": 44,
   "metadata": {},
   "outputs": [],
   "source": [
    "product_types_set = list(set(list(map(str.strip, list(product_types['category'].values)))))"
   ]
  },
  {
   "cell_type": "code",
   "execution_count": 18,
   "metadata": {},
   "outputs": [],
   "source": [
    "def row_stringify(row):\n",
    "\trow = map(str, list(row.values))\n",
    "\tstr_row = \"\".join(row)\n",
    "\treturn str_row\n",
    "\n",
    "def coords(dataset, name):\n",
    "\trow_index = 0\n",
    "\tfor i in range(len(dataset)):\n",
    "\t\trow = dataset.iloc[i]\n",
    "\t\trow_str = row_stringify(row)\n",
    "\t\tif name in row_str:\n",
    "\t\t\trow_index = i\n",
    "\t\t\tbreak\n",
    "\tcol_index = 0\n",
    "\tfor j in range(len(dataset.columns)):\n",
    "\t\tcol = dataset.iloc[row_index, j]\n",
    "\t\tif name in str(col):\n",
    "\t\t\tcol_index = j\n",
    "\t\t\tbreak\n",
    "\t\n",
    "\treturn np.array([row_index, col_index], dtype=np.int64)"
   ]
  },
  {
   "cell_type": "code",
   "execution_count": 19,
   "metadata": {},
   "outputs": [
    {
     "name": "stderr",
     "output_type": "stream",
     "text": [
      "d:\\programming\\AI\\ai_env\\lib\\site-packages\\openpyxl\\styles\\stylesheet.py:226: UserWarning: Workbook contains no default style, apply openpyxl's default\n",
      "  warn(\"Workbook contains no default style, apply openpyxl's default\")\n"
     ]
    }
   ],
   "source": [
    "dataset = pd.read_excel(\"./data/Средние_потребительские_цены_на_непродовольственные_товарыСредние.xlsx\")"
   ]
  },
  {
   "cell_type": "code",
   "execution_count": 35,
   "metadata": {},
   "outputs": [],
   "source": [
    "area_coords = []\n",
    "\n",
    "for i in range(len(dataset.columns)):\n",
    "\titem = dataset.iloc[2, i]\n",
    "\titem = str(item)\n",
    "\tif len(item) > 5:\n",
    "\t\tif len(area_coords) > 0:\n",
    "\t\t\tarea_coords[-1].append([2, i])\n",
    "\t\tarea_coords.append(\n",
    "\t\t\t[\n",
    "\t\t\t\titem,\n",
    "\t\t\t\t[2, i]\n",
    "\t\t\t]\n",
    "\t\t)\n",
    "area_coords[-1].append([2, len(dataset.columns)])\n",
    "\n",
    "area_coords.insert(0,\n",
    "\t['', [2, 1], [2, area_coords[0][1][-1]]]\n",
    ")"
   ]
  },
  {
   "cell_type": "code",
   "execution_count": 36,
   "metadata": {},
   "outputs": [
    {
     "data": {
      "text/plain": [
       "[['', [2, 1], [2, 5]],\n",
       " ['Центральный федеральный округ', [2, 5], [2, 81]],\n",
       " ['Северо-Западный федеральный округ', [2, 81], [2, 129]],\n",
       " ['Южный федеральный округ', [2, 129], [2, 165]],\n",
       " ['Северо-Кавказский федеральный округ', [2, 165], [2, 197]],\n",
       " ['Приволжский федеральный округ', [2, 197], [2, 257]],\n",
       " ['Уральский федеральный округ', [2, 257], [2, 285]],\n",
       " ['Сибирский федеральный округ', [2, 285], [2, 329]],\n",
       " ['Дальневосточный федеральный округ', [2, 329], [2, 377]]]"
      ]
     },
     "execution_count": 36,
     "metadata": {},
     "output_type": "execute_result"
    }
   ],
   "source": [
    "area_coords"
   ]
  },
  {
   "cell_type": "code",
   "execution_count": 80,
   "metadata": {},
   "outputs": [
    {
     "data": {
      "text/plain": [
       "nan"
      ]
     },
     "execution_count": 80,
     "metadata": {},
     "output_type": "execute_result"
    }
   ],
   "source": [
    "dataset.iloc[2, 376]"
   ]
  },
  {
   "cell_type": "code",
   "execution_count": 82,
   "metadata": {},
   "outputs": [],
   "source": [
    "new_dataset_columns = [\n",
    "\t\"Дата\",\n",
    "\t\"Страна\",\n",
    "\t\"Наименование округа\",\n",
    "\t\"Наименование субъекта\",\n",
    "\t\"Тип агрегации\",\n",
    "\t\"Категория товара или услуги\",\n",
    "\t\"Наименование товара\",\n",
    "\t\"Средняя цена\",\n",
    "\t\"Позиция в рейтинге\"\n",
    "]\n",
    "\n",
    "flat_dataset = {name: [] for name in new_dataset_columns}\n",
    "\n",
    "def my_argsort(my_list, add=1):\n",
    "\tsorted_list = sorted(my_list)\n",
    "\treturn [sorted_list.index(item)+add for item in my_list]\n",
    "\n",
    "area_name = \"\"\n",
    "for i in range(len(area_coords)):\n",
    "\tstart_coords = area_coords[i]\n",
    "\tstart_y, start_x = start_coords[1]\n",
    "\tend_y, end_x = start_coords[2]\n",
    "\n",
    "\tsubject_name = dataset.iloc[start_y, start_x]\n",
    "\tfor col in range(start_x, end_x):\n",
    "\t\tarea_prices = {prod_type: [] for prod_type in product_types_set} \n",
    "\n",
    "\t\tfor j in range(7, len(dataset)-1):\n",
    "\t\t\tproduct_name = dataset.iloc[j, 0].strip()\n",
    "\t\t\t\n",
    "\t\t\tif len(str(dataset.iloc[3, col])) > 0 and not dataset.iloc[3, col] is np.nan:\n",
    "\t\t\t\tarea_name = dataset.iloc[3, col]\n",
    "\t\t\t\n",
    "\t\t\tavg_price = dataset.iloc[j, col]\n",
    "\t\t\tdate = dataset.iloc[6, col]\n",
    "\t\t\tproducts_type = product_types_dict[product_name]\n",
    "\t\t\tflat_dataset[\"Дата\"].append(date)\n",
    "\t\t\tflat_dataset[\"Страна\"].append(\"Российская Федерация\")\n",
    "\t\t\tflat_dataset[\"Наименование округа\"].append(subject_name)\n",
    "\t\t\tflat_dataset[\"Наименование субъекта\"].append(area_name)\n",
    "\t\t\tflat_dataset[\"Тип агрегации\"].append(\"\")\n",
    "\t\t\tflat_dataset[\"Категория товара или услуги\"].append(products_type)\n",
    "\t\t\tflat_dataset[\"Наименование товара\"].append(product_name)\n",
    "\t\t\tflat_dataset[\"Средняя цена\"].append(avg_price)\n",
    "\t\t\tflat_dataset[\"Позиция в рейтинге\"].append(\"\")\n",
    "\t\t\t# area_prices.append(avg_price)\n",
    "\t\t\tarea_prices[products_type].append([len(flat_dataset[\"Позиция в рейтинге\"]) - 1, avg_price])\n",
    "\t\t# print(area_prices)\n",
    "\t\t# area_prices.sort()\n",
    "\t\t# for k in range(len(area_prices)):\n",
    "\t\t# \tavg_price = flat_dataset[\"Средняя цена\"][-(k+1)]\n",
    "\t\t# \tposition = area_prices.index(avg_price) + 1\n",
    "\t\t# \tflat_dataset[\"Позиция в рейтинге\"][-(k+1)] = position\n",
    "\n",
    "\t\tfor product_type in product_types_set:\n",
    "\t\t\tprices_list = area_prices[product_type]\n",
    "\t\t\tprices_list_avg = [item[1] for item in prices_list]\n",
    "\t\t\t# print(prices_list_avg)\n",
    "\t\t\tprices_list_avg = my_argsort(prices_list_avg)\n",
    "\t\t\t# print(prices_list_avg)\n",
    "\t\t\t# break\n",
    "\t\t\tfor k in range(len(prices_list)):\n",
    "\t\t\t\tpos = prices_list[k][0]\n",
    "\t\t\t\tposition = prices_list_avg[k]\n",
    "\t\t\t\tflat_dataset[\"Позиция в рейтинге\"][pos] = position\n",
    "\t\t# break\n"
   ]
  },
  {
   "cell_type": "code",
   "execution_count": 83,
   "metadata": {},
   "outputs": [],
   "source": [
    "pd.DataFrame(data=flat_dataset).to_excel(\"./test.xlsx\", index=False)"
   ]
  },
  {
   "cell_type": "code",
   "execution_count": 48,
   "metadata": {},
   "outputs": [
    {
     "name": "stdout",
     "output_type": "stream",
     "text": [
      "{'Автотовары': [[34, 50.57],\n",
      "                [35, 47.17],\n",
      "                [36, 51.23],\n",
      "                [37, 54.42],\n",
      "                [38, 60.12]],\n",
      " 'Алкогольная и табачная продукция': [[22, 155.73]],\n",
      " 'Гигиена': [[16, 53.91],\n",
      "             [17, 209.87],\n",
      "             [18, 57.2],\n",
      "             [19, 203.94],\n",
      "             [20, 147.13],\n",
      "             [21, 122.01],\n",
      "             [25, 22.19],\n",
      "             [27, 137.01]],\n",
      " 'Детские товары': [[8, 225.23], [26, 232.58]],\n",
      " 'Медикаменты': [[39, 36.22],\n",
      "                 [40, 47.82],\n",
      "                 [41, 26.15],\n",
      "                 [42, 136.96],\n",
      "                 [43, 109.21],\n",
      "                 [44, 188.41],\n",
      "                 [45, 80.97],\n",
      "                 [46, 130.22],\n",
      "                 [47, 474],\n",
      "                 [48, 76.96]],\n",
      " 'Обувь': [[14, 1719.69], [15, 3475.3]],\n",
      " 'Одежда': [[7, 1617.62],\n",
      "            [9, 2173],\n",
      "            [10, 443.06],\n",
      "            [11, 462.89],\n",
      "            [12, 261.3],\n",
      "            [13, 111.01]],\n",
      " 'Товары для дома': [[23, 2.72], [30, 414.41], [31, 20046.89], [49, 291.36]],\n",
      " 'Транспорт': [[32, 955754.31], [33, 1914497.34]],\n",
      " 'Электроника': [[24, 9276.7], [28, 34661.78], [29, 12886.98]]}\n"
     ]
    }
   ],
   "source": [
    "import pprint\n",
    "pprint.pprint({'Гигиена': [[16, 53.91], [17, 209.87], [18, 57.2], [19, 203.94], [20, 147.13], [21, 122.01], [25, 22.19], [27, 137.01]], 'Детские товары': [[8, 225.23], [26, 232.58]], 'Товары для дома': [[23, 2.72], [30, 414.41], [31, 20046.89], [49, 291.36]], 'Медикаменты': [[39, 36.22], [40, 47.82], [41, 26.15], [42, 136.96], [43, 109.21], [44, 188.41], [45, 80.97], [46, 130.22], [47, 474], [48, 76.96]], 'Алкогольная и табачная продукция': [[22, 155.73]], 'Обувь': [[14, 1719.69], [15, 3475.3]], 'Транспорт': [[32, 955754.31], [33, 1914497.34]], 'Одежда': [[7, 1617.62], [9, 2173], [10, 443.06], [11, 462.89], [12, 261.3], [13, 111.01]], 'Автотовары': [[34, 50.57], [35, 47.17], [36, 51.23], [37, 54.42], [38, 60.12]], 'Электроника': [[24, 9276.7], [28, 34661.78], [29, 12886.98]]})"
   ]
  },
  {
   "cell_type": "code",
   "execution_count": 49,
   "metadata": {},
   "outputs": [],
   "source": [
    "prices = {'Автотовары': [[34, 50.57],\n",
    "                [35, 47.17],\n",
    "                [36, 51.23],\n",
    "                [37, 54.42],\n",
    "                [38, 60.12]],\n",
    " 'Алкогольная и табачная продукция': [[22, 155.73]],\n",
    " 'Гигиена': [[16, 53.91],\n",
    "             [17, 209.87],\n",
    "             [18, 57.2],\n",
    "             [19, 203.94],\n",
    "             [20, 147.13],\n",
    "             [21, 122.01],\n",
    "             [25, 22.19],\n",
    "             [27, 137.01]],\n",
    " 'Детские товары': [[8, 225.23], [26, 232.58]],\n",
    " 'Медикаменты': [[39, 36.22],\n",
    "                 [40, 47.82],\n",
    "                 [41, 26.15],\n",
    "                 [42, 136.96],\n",
    "                 [43, 109.21],\n",
    "                 [44, 188.41],\n",
    "                 [45, 80.97],\n",
    "                 [46, 130.22],\n",
    "                 [47, 474],\n",
    "                 [48, 76.96]],\n",
    " 'Обувь': [[14, 1719.69], [15, 3475.3]],\n",
    " 'Одежда': [[7, 1617.62],\n",
    "            [9, 2173],\n",
    "            [10, 443.06],\n",
    "            [11, 462.89],\n",
    "            [12, 261.3],\n",
    "            [13, 111.01]],\n",
    " 'Товары для дома': [[23, 2.72], [30, 414.41], [31, 20046.89], [49, 291.36]],\n",
    " 'Транспорт': [[32, 955754.31], [33, 1914497.34]],\n",
    " 'Электроника': [[24, 9276.7], [28, 34661.78], [29, 12886.98]]}\n",
    "\n"
   ]
  },
  {
   "cell_type": "code",
   "execution_count": 50,
   "metadata": {},
   "outputs": [],
   "source": [
    "some = [[34, 50.57],\n",
    "\t\t[35, 47.17],\n",
    "\t\t[36, 51.23],\n",
    "\t\t[37, 54.42],\n",
    "\t\t[38, 60.12]]\n",
    "\n"
   ]
  },
  {
   "cell_type": "code",
   "execution_count": 66,
   "metadata": {},
   "outputs": [
    {
     "data": {
      "text/plain": [
       "[1, 2, 0, 7, 5, 8, 4, 6, 9, 3]"
      ]
     },
     "execution_count": 66,
     "metadata": {},
     "output_type": "execute_result"
    }
   ],
   "source": [
    "def my_argsort(my_list):\n",
    "\tsorted_list = sorted(my_list)\n",
    "\treturn [sorted_list.index(item) for item in my_list]\n",
    "\t\n",
    "myList = [\n",
    "36.22,\n",
    "47.82,\n",
    "26.15,\n",
    "136.9,\n",
    "109.2,\n",
    "188.4,\n",
    "80.97,\n",
    "130.2,\n",
    "474,\n",
    "76.96,\n",
    "]\n",
    "\n",
    "my_argsort(myList)\n"
   ]
  },
  {
   "cell_type": "code",
   "execution_count": 64,
   "metadata": {},
   "outputs": [
    {
     "data": {
      "text/plain": [
       "[26.15, 36.22, 47.82, 76.96, 80.97, 109.2, 130.2, 136.9, 188.4, 474]"
      ]
     },
     "execution_count": 64,
     "metadata": {},
     "output_type": "execute_result"
    }
   ],
   "source": [
    "sorted(myList)"
   ]
  }
 ],
 "metadata": {
  "kernelspec": {
   "display_name": "Python 3.8.8 ('ai_env': venv)",
   "language": "python",
   "name": "python3"
  },
  "language_info": {
   "codemirror_mode": {
    "name": "ipython",
    "version": 3
   },
   "file_extension": ".py",
   "mimetype": "text/x-python",
   "name": "python",
   "nbconvert_exporter": "python",
   "pygments_lexer": "ipython3",
   "version": "3.8.8"
  },
  "orig_nbformat": 4,
  "vscode": {
   "interpreter": {
    "hash": "adcddc8d7429771f4b1432eeada1cd0f7022b0dbce651544b586660268ca02b1"
   }
  }
 },
 "nbformat": 4,
 "nbformat_minor": 2
}
